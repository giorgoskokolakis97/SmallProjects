{
  "cells": [
    {
      "attachments": {},
      "cell_type": "markdown",
      "metadata": {},
      "source": [
        "<b> Import necessary Libraries and load the the Fake news Dataset"
      ]
    },
    {
      "cell_type": "code",
      "execution_count": 3,
      "metadata": {
        "id": "lFteid_Nh4ki"
      },
      "outputs": [
        {
          "name": "stderr",
          "output_type": "stream",
          "text": [
            "2023-03-13 16:25:19.687552: I tensorflow/core/platform/cpu_feature_guard.cc:193] This TensorFlow binary is optimized with oneAPI Deep Neural Network Library (oneDNN) to use the following CPU instructions in performance-critical operations:  AVX2 FMA\n",
            "To enable them in other operations, rebuild TensorFlow with the appropriate compiler flags.\n"
          ]
        }
      ],
      "source": [
        "import tensorflow as tf\n",
        "import pandas as pd\n",
        "import numpy as np\n",
        "import matplotlib.pyplot as plt\n",
        "from tensorflow import keras"
      ]
    },
    {
      "cell_type": "code",
      "execution_count": 4,
      "metadata": {
        "id": "4q6V-FUoh_hn"
      },
      "outputs": [],
      "source": [
        "train = pd.read_csv('train.csv')"
      ]
    },
    {
      "cell_type": "code",
      "execution_count": 6,
      "metadata": {
        "id": "P7h4VFN7TVWo"
      },
      "outputs": [],
      "source": [
        "import nltk\n",
        "import sklearn\n",
        "from nltk.corpus import stopwords\n",
        "from nltk.stem.porter import PorterStemmer\n",
        "from sklearn.feature_extraction.text import TfidfVectorizer\n",
        "from sklearn.model_selection import train_test_split"
      ]
    },
    {
      "attachments": {},
      "cell_type": "markdown",
      "metadata": {},
      "source": [
        "<b> Preprocessing the Fake news Dataset, importing stopwords, filling the nan values."
      ]
    },
    {
      "cell_type": "code",
      "execution_count": 7,
      "metadata": {
        "id": "Vz77DxOnZLnU"
      },
      "outputs": [],
      "source": [
        "from sklearn import feature_extraction, linear_model, model_selection, preprocessing"
      ]
    },
    {
      "cell_type": "code",
      "execution_count": 8,
      "metadata": {
        "colab": {
          "base_uri": "https://localhost:8080/"
        },
        "id": "DGBil8gFU3bJ",
        "outputId": "ca4a50a4-31da-4aeb-a534-22e2ad3e4a13"
      },
      "outputs": [
        {
          "name": "stderr",
          "output_type": "stream",
          "text": [
            "[nltk_data] Downloading package stopwords to\n",
            "[nltk_data]     /Users/cuongnguyen/nltk_data...\n",
            "[nltk_data]   Package stopwords is already up-to-date!\n"
          ]
        },
        {
          "data": {
            "text/plain": [
              "True"
            ]
          },
          "execution_count": 8,
          "metadata": {},
          "output_type": "execute_result"
        }
      ],
      "source": [
        "nltk.download('stopwords')"
      ]
    },
    {
      "cell_type": "code",
      "execution_count": 9,
      "metadata": {
        "colab": {
          "base_uri": "https://localhost:8080/"
        },
        "id": "BlV-prBWU_0u",
        "outputId": "4f9dcc08-16de-4fad-bc20-884d6e9c8f4d"
      },
      "outputs": [
        {
          "data": {
            "text/plain": [
              "id             0\n",
              "keyword       61\n",
              "location    2533\n",
              "text           0\n",
              "target         0\n",
              "dtype: int64"
            ]
          },
          "execution_count": 9,
          "metadata": {},
          "output_type": "execute_result"
        }
      ],
      "source": [
        "train.isnull().sum()"
      ]
    },
    {
      "cell_type": "code",
      "execution_count": 11,
      "metadata": {
        "colab": {
          "base_uri": "https://localhost:8080/",
          "height": 663
        },
        "id": "b8X2x5crVuXD",
        "outputId": "b228c6f3-5700-4f6d-ffc5-944a568b3d12"
      },
      "outputs": [
        {
          "name": "stdout",
          "output_type": "stream",
          "text": [
            "train:  \n",
            " id          0\n",
            "keyword     0\n",
            "location    0\n",
            "text        0\n",
            "target      0\n",
            "dtype: int64\n",
            "test:  \n",
            " id          0\n",
            "keyword     0\n",
            "location    0\n",
            "text        0\n",
            "dtype: int64\n"
          ]
        },
        {
          "data": {
            "text/html": [
              "<div>\n",
              "<style scoped>\n",
              "    .dataframe tbody tr th:only-of-type {\n",
              "        vertical-align: middle;\n",
              "    }\n",
              "\n",
              "    .dataframe tbody tr th {\n",
              "        vertical-align: top;\n",
              "    }\n",
              "\n",
              "    .dataframe thead th {\n",
              "        text-align: right;\n",
              "    }\n",
              "</style>\n",
              "<table border=\"1\" class=\"dataframe\">\n",
              "  <thead>\n",
              "    <tr style=\"text-align: right;\">\n",
              "      <th></th>\n",
              "      <th>keyword</th>\n",
              "      <th>location</th>\n",
              "      <th>text</th>\n",
              "      <th>target</th>\n",
              "    </tr>\n",
              "  </thead>\n",
              "  <tbody>\n",
              "    <tr>\n",
              "      <th>0</th>\n",
              "      <td></td>\n",
              "      <td></td>\n",
              "      <td>Our Deeds are the Reason of this #earthquake M...</td>\n",
              "      <td>1</td>\n",
              "    </tr>\n",
              "    <tr>\n",
              "      <th>1</th>\n",
              "      <td></td>\n",
              "      <td></td>\n",
              "      <td>Forest fire near La Ronge Sask. Canada</td>\n",
              "      <td>1</td>\n",
              "    </tr>\n",
              "    <tr>\n",
              "      <th>2</th>\n",
              "      <td></td>\n",
              "      <td></td>\n",
              "      <td>All residents asked to 'shelter in place' are ...</td>\n",
              "      <td>1</td>\n",
              "    </tr>\n",
              "    <tr>\n",
              "      <th>3</th>\n",
              "      <td></td>\n",
              "      <td></td>\n",
              "      <td>13,000 people receive #wildfires evacuation or...</td>\n",
              "      <td>1</td>\n",
              "    </tr>\n",
              "    <tr>\n",
              "      <th>4</th>\n",
              "      <td></td>\n",
              "      <td></td>\n",
              "      <td>Just got sent this photo from Ruby #Alaska as ...</td>\n",
              "      <td>1</td>\n",
              "    </tr>\n",
              "    <tr>\n",
              "      <th>...</th>\n",
              "      <td>...</td>\n",
              "      <td>...</td>\n",
              "      <td>...</td>\n",
              "      <td>...</td>\n",
              "    </tr>\n",
              "    <tr>\n",
              "      <th>7608</th>\n",
              "      <td></td>\n",
              "      <td></td>\n",
              "      <td>Two giant cranes holding a bridge collapse int...</td>\n",
              "      <td>1</td>\n",
              "    </tr>\n",
              "    <tr>\n",
              "      <th>7609</th>\n",
              "      <td></td>\n",
              "      <td></td>\n",
              "      <td>@aria_ahrary @TheTawniest The out of control w...</td>\n",
              "      <td>1</td>\n",
              "    </tr>\n",
              "    <tr>\n",
              "      <th>7610</th>\n",
              "      <td></td>\n",
              "      <td></td>\n",
              "      <td>M1.94 [01:04 UTC]?5km S of Volcano Hawaii. htt...</td>\n",
              "      <td>1</td>\n",
              "    </tr>\n",
              "    <tr>\n",
              "      <th>7611</th>\n",
              "      <td></td>\n",
              "      <td></td>\n",
              "      <td>Police investigating after an e-bike collided ...</td>\n",
              "      <td>1</td>\n",
              "    </tr>\n",
              "    <tr>\n",
              "      <th>7612</th>\n",
              "      <td></td>\n",
              "      <td></td>\n",
              "      <td>The Latest: More Homes Razed by Northern Calif...</td>\n",
              "      <td>1</td>\n",
              "    </tr>\n",
              "  </tbody>\n",
              "</table>\n",
              "<p>7613 rows × 4 columns</p>\n",
              "</div>"
            ],
            "text/plain": [
              "     keyword location                                               text  \\\n",
              "0                      Our Deeds are the Reason of this #earthquake M...   \n",
              "1                                 Forest fire near La Ronge Sask. Canada   \n",
              "2                      All residents asked to 'shelter in place' are ...   \n",
              "3                      13,000 people receive #wildfires evacuation or...   \n",
              "4                      Just got sent this photo from Ruby #Alaska as ...   \n",
              "...      ...      ...                                                ...   \n",
              "7608                   Two giant cranes holding a bridge collapse int...   \n",
              "7609                   @aria_ahrary @TheTawniest The out of control w...   \n",
              "7610                   M1.94 [01:04 UTC]?5km S of Volcano Hawaii. htt...   \n",
              "7611                   Police investigating after an e-bike collided ...   \n",
              "7612                   The Latest: More Homes Razed by Northern Calif...   \n",
              "\n",
              "      target  \n",
              "0          1  \n",
              "1          1  \n",
              "2          1  \n",
              "3          1  \n",
              "4          1  \n",
              "...      ...  \n",
              "7608       1  \n",
              "7609       1  \n",
              "7610       1  \n",
              "7611       1  \n",
              "7612       1  \n",
              "\n",
              "[7613 rows x 4 columns]"
            ]
          },
          "execution_count": 11,
          "metadata": {},
          "output_type": "execute_result"
        }
      ],
      "source": [
        "train=train.fillna('')\n",
        "print('train: ','\\n' ,train.isnull().sum())\n",
        "newsdf = train.drop(columns='id', axis=1)\n",
        "newsdf"
      ]
    },
    {
      "attachments": {},
      "cell_type": "markdown",
      "metadata": {},
      "source": [
        "<b> Loading the Earthquake twitter dataset, keeping the tweets that are in English and dropping the columns we do not need."
      ]
    },
    {
      "cell_type": "code",
      "execution_count": 12,
      "metadata": {
        "colab": {
          "base_uri": "https://localhost:8080/",
          "height": 261
        },
        "id": "w8LuHZwDUAK3",
        "outputId": "56912e01-ca7b-4b61-e546-6c72f8baa05d"
      },
      "outputs": [
        {
          "name": "stderr",
          "output_type": "stream",
          "text": [
            "/var/folders/s5/_19scpmn5qx24kgxtpzykrz00000gn/T/ipykernel_16596/3958527838.py:1: DtypeWarning: Columns (6) have mixed types. Specify dtype option on import or set low_memory=False.\n",
            "  eqdf = pd.read_csv('/Users/cuongnguyen/Master/Data Science/BDP/project/tweets.csv')\n"
          ]
        },
        {
          "name": "stdout",
          "output_type": "stream",
          "text": [
            "Shape of the Dataset: (189626, 2)\n"
          ]
        },
        {
          "data": {
            "text/html": [
              "<div>\n",
              "<style scoped>\n",
              "    .dataframe tbody tr th:only-of-type {\n",
              "        vertical-align: middle;\n",
              "    }\n",
              "\n",
              "    .dataframe tbody tr th {\n",
              "        vertical-align: top;\n",
              "    }\n",
              "\n",
              "    .dataframe thead th {\n",
              "        text-align: right;\n",
              "    }\n",
              "</style>\n",
              "<table border=\"1\" class=\"dataframe\">\n",
              "  <thead>\n",
              "    <tr style=\"text-align: right;\">\n",
              "      <th></th>\n",
              "      <th>date</th>\n",
              "      <th>content</th>\n",
              "    </tr>\n",
              "  </thead>\n",
              "  <tbody>\n",
              "    <tr>\n",
              "      <th>1</th>\n",
              "      <td>2023-02-21 03:29:07+00:00</td>\n",
              "      <td>New search &amp;amp; rescue work is in progress in...</td>\n",
              "    </tr>\n",
              "    <tr>\n",
              "      <th>2</th>\n",
              "      <td>2023-02-21 03:29:04+00:00</td>\n",
              "      <td>Can't imagine those who still haven't recovere...</td>\n",
              "    </tr>\n",
              "    <tr>\n",
              "      <th>3</th>\n",
              "      <td>2023-02-21 03:28:06+00:00</td>\n",
              "      <td>its a highkey sign for all of us to ponder ove...</td>\n",
              "    </tr>\n",
              "    <tr>\n",
              "      <th>5</th>\n",
              "      <td>2023-02-21 03:27:27+00:00</td>\n",
              "      <td>See how strong was the #Earthquake of Feb 20, ...</td>\n",
              "    </tr>\n",
              "    <tr>\n",
              "      <th>6</th>\n",
              "      <td>2023-02-21 03:27:11+00:00</td>\n",
              "      <td>More difficult news today on top of struggles ...</td>\n",
              "    </tr>\n",
              "  </tbody>\n",
              "</table>\n",
              "</div>"
            ],
            "text/plain": [
              "                        date  \\\n",
              "1  2023-02-21 03:29:07+00:00   \n",
              "2  2023-02-21 03:29:04+00:00   \n",
              "3  2023-02-21 03:28:06+00:00   \n",
              "5  2023-02-21 03:27:27+00:00   \n",
              "6  2023-02-21 03:27:11+00:00   \n",
              "\n",
              "                                             content  \n",
              "1  New search &amp; rescue work is in progress in...  \n",
              "2  Can't imagine those who still haven't recovere...  \n",
              "3  its a highkey sign for all of us to ponder ove...  \n",
              "5  See how strong was the #Earthquake of Feb 20, ...  \n",
              "6  More difficult news today on top of struggles ...  "
            ]
          },
          "execution_count": 12,
          "metadata": {},
          "output_type": "execute_result"
        }
      ],
      "source": [
        "eqdf = pd.read_csv('tweets.csv')\n",
        "eqdf = eqdf[eqdf['language']=='en']\n",
        "eqdf = eqdf.drop(['coordinates','place','source','language','hashtags','like_count','rt_count','followers_count','isVerified'], axis=1)\n",
        "print('Shape of the Dataset:', eqdf.shape)\n",
        "eqdf.head()\n"
      ]
    },
    {
      "attachments": {},
      "cell_type": "markdown",
      "metadata": {},
      "source": [
        "<b> Let us now load the sentiment analysis Dataset, similarly we drop the columns we do not need. We sample a 20% fraction of the data as even with the use of tensorflow the data are too much for the resources we have available. We also replace the 4 for positive sentiment to 1, the negative emotion remains 0. "
      ]
    },
    {
      "cell_type": "code",
      "execution_count": 13,
      "metadata": {
        "colab": {
          "base_uri": "https://localhost:8080/",
          "height": 381
        },
        "id": "Qd82rR-ZaFIC",
        "outputId": "fdade025-e2b6-4d6f-dbd9-c05ad33313b8"
      },
      "outputs": [
        {
          "name": "stdout",
          "output_type": "stream",
          "text": [
            "(320000, 3)\n"
          ]
        },
        {
          "data": {
            "text/html": [
              "<div>\n",
              "<style scoped>\n",
              "    .dataframe tbody tr th:only-of-type {\n",
              "        vertical-align: middle;\n",
              "    }\n",
              "\n",
              "    .dataframe tbody tr th {\n",
              "        vertical-align: top;\n",
              "    }\n",
              "\n",
              "    .dataframe thead th {\n",
              "        text-align: right;\n",
              "    }\n",
              "</style>\n",
              "<table border=\"1\" class=\"dataframe\">\n",
              "  <thead>\n",
              "    <tr style=\"text-align: right;\">\n",
              "      <th></th>\n",
              "      <th>Popularity</th>\n",
              "      <th>date</th>\n",
              "      <th>content</th>\n",
              "    </tr>\n",
              "  </thead>\n",
              "  <tbody>\n",
              "    <tr>\n",
              "      <th>55005</th>\n",
              "      <td>0</td>\n",
              "      <td>Sat May 02 22:28:47 PDT 2009</td>\n",
              "      <td>so good to reunite with my 2-time prom date, b...</td>\n",
              "    </tr>\n",
              "    <tr>\n",
              "      <th>863898</th>\n",
              "      <td>1</td>\n",
              "      <td>Sat May 02 00:51:12 PDT 2009</td>\n",
              "      <td>@divasmistress {{hugs}} to you love</td>\n",
              "    </tr>\n",
              "    <tr>\n",
              "      <th>1534758</th>\n",
              "      <td>1</td>\n",
              "      <td>Mon Jun 15 08:16:39 PDT 2009</td>\n",
              "      <td>Still trying to get the hang of this new craze...</td>\n",
              "    </tr>\n",
              "    <tr>\n",
              "      <th>159519</th>\n",
              "      <td>0</td>\n",
              "      <td>Thu May 28 22:51:57 PDT 2009</td>\n",
              "      <td>Tonight meeting with my best friend and off to...</td>\n",
              "    </tr>\n",
              "    <tr>\n",
              "      <th>1499624</th>\n",
              "      <td>1</td>\n",
              "      <td>Sun Jun 07 18:32:58 PDT 2009</td>\n",
              "      <td>I am going to see UP  is it good?</td>\n",
              "    </tr>\n",
              "    <tr>\n",
              "      <th>1068614</th>\n",
              "      <td>1</td>\n",
              "      <td>Fri May 29 16:30:36 PDT 2009</td>\n",
              "      <td>http://twitpic.com/67uzq - Mmm. Two of my favo...</td>\n",
              "    </tr>\n",
              "    <tr>\n",
              "      <th>478983</th>\n",
              "      <td>0</td>\n",
              "      <td>Mon Jun 15 08:06:15 PDT 2009</td>\n",
              "      <td>Not sure how I'm going to dance today with a s...</td>\n",
              "    </tr>\n",
              "    <tr>\n",
              "      <th>177884</th>\n",
              "      <td>0</td>\n",
              "      <td>Fri May 29 16:36:34 PDT 2009</td>\n",
              "      <td>Is at work</td>\n",
              "    </tr>\n",
              "    <tr>\n",
              "      <th>744618</th>\n",
              "      <td>0</td>\n",
              "      <td>Sun Jun 21 09:46:20 PDT 2009</td>\n",
              "      <td>Off to a prospective adopter visit for GW. Aft...</td>\n",
              "    </tr>\n",
              "    <tr>\n",
              "      <th>76010</th>\n",
              "      <td>0</td>\n",
              "      <td>Mon May 04 06:07:51 PDT 2009</td>\n",
              "      <td>@darrendoyle Well I watched it in a Munster pu...</td>\n",
              "    </tr>\n",
              "  </tbody>\n",
              "</table>\n",
              "</div>"
            ],
            "text/plain": [
              "         Popularity                          date  \\\n",
              "55005             0  Sat May 02 22:28:47 PDT 2009   \n",
              "863898            1  Sat May 02 00:51:12 PDT 2009   \n",
              "1534758           1  Mon Jun 15 08:16:39 PDT 2009   \n",
              "159519            0  Thu May 28 22:51:57 PDT 2009   \n",
              "1499624           1  Sun Jun 07 18:32:58 PDT 2009   \n",
              "1068614           1  Fri May 29 16:30:36 PDT 2009   \n",
              "478983            0  Mon Jun 15 08:06:15 PDT 2009   \n",
              "177884            0  Fri May 29 16:36:34 PDT 2009   \n",
              "744618            0  Sun Jun 21 09:46:20 PDT 2009   \n",
              "76010             0  Mon May 04 06:07:51 PDT 2009   \n",
              "\n",
              "                                                   content  \n",
              "55005    so good to reunite with my 2-time prom date, b...  \n",
              "863898                @divasmistress {{hugs}} to you love   \n",
              "1534758  Still trying to get the hang of this new craze...  \n",
              "159519   Tonight meeting with my best friend and off to...  \n",
              "1499624                  I am going to see UP  is it good?  \n",
              "1068614  http://twitpic.com/67uzq - Mmm. Two of my favo...  \n",
              "478983   Not sure how I'm going to dance today with a s...  \n",
              "177884                                         Is at work   \n",
              "744618   Off to a prospective adopter visit for GW. Aft...  \n",
              "76010    @darrendoyle Well I watched it in a Munster pu...  "
            ]
          },
          "execution_count": 13,
          "metadata": {},
          "output_type": "execute_result"
        }
      ],
      "source": [
        "DATASET_ENCODING = \"ISO-8859-1\"\n",
        "col_names = ['Popularity', 'Tweet ID', 'date', 'Flag', 'User', 'content']\n",
        "sadf = pd.read_csv('training.1600000.processed.noemoticon.csv', encoding=DATASET_ENCODING, names=col_names)\n",
        "sadf['Popularity'] = sadf['Popularity'].replace(4,1)\n",
        "sadf = sadf.drop(['Tweet ID', 'Flag', 'User'], axis=1)\n",
        "sadf = sadf.sample(frac=.2)\n",
        "print(sadf.shape)\n",
        "sadf.head(10)"
      ]
    },
    {
      "cell_type": "code",
      "execution_count": 14,
      "metadata": {
        "colab": {
          "base_uri": "https://localhost:8080/"
        },
        "id": "OoPiDmo8IPGP",
        "outputId": "cb85199d-a7b5-4f6a-bbe7-55a00554bea9"
      },
      "outputs": [
        {
          "data": {
            "text/plain": [
              "array([0, 1])"
            ]
          },
          "execution_count": 14,
          "metadata": {},
          "output_type": "execute_result"
        }
      ],
      "source": [
        "sadf['Popularity'].unique()"
      ]
    },
    {
      "attachments": {},
      "cell_type": "markdown",
      "metadata": {},
      "source": [
        "<b> We now apply preprocessing and stemming to all three datasets."
      ]
    },
    {
      "cell_type": "code",
      "execution_count": 15,
      "metadata": {
        "colab": {
          "base_uri": "https://localhost:8080/"
        },
        "id": "yQtbbVBHTpt6",
        "outputId": "60948e13-e21f-478e-f0cd-531a3fcab2ca"
      },
      "outputs": [
        {
          "name": "stderr",
          "output_type": "stream",
          "text": [
            "[nltk_data] Downloading package stopwords to\n",
            "[nltk_data]     /Users/cuongnguyen/nltk_data...\n",
            "[nltk_data]   Package stopwords is already up-to-date!\n"
          ]
        },
        {
          "data": {
            "text/plain": [
              "True"
            ]
          },
          "execution_count": 15,
          "metadata": {},
          "output_type": "execute_result"
        }
      ],
      "source": [
        "import nltk\n",
        "from nltk.corpus import stopwords\n",
        "from  nltk.stem import SnowballStemmer\n",
        "import re\n",
        "TEXT_CLEANING_RE = \"@\\S+|https?:\\S+|http?:\\S|[^A-Za-z0-9]+\"\n",
        "nltk.download('stopwords')"
      ]
    },
    {
      "cell_type": "code",
      "execution_count": 16,
      "metadata": {
        "id": "GoVzSm4LTx6Z"
      },
      "outputs": [],
      "source": [
        "stop_words = stopwords.words(\"english\")\n",
        "stemmer = SnowballStemmer(\"english\")\n",
        "def preprocess(text, stem=False):\n",
        "    text = re.sub(TEXT_CLEANING_RE, ' ', str(text).lower()).strip()\n",
        "    tokens = []\n",
        "    for token in text.split():\n",
        "        if token not in stop_words:\n",
        "            if stem:\n",
        "                tokens.append(stemmer.stem(token))\n",
        "            else:\n",
        "                tokens.append(token)\n",
        "    return \" \".join(tokens)"
      ]
    },
    {
      "cell_type": "code",
      "execution_count": 17,
      "metadata": {
        "id": "9VDu5PCUYeOw"
      },
      "outputs": [],
      "source": [
        "newsdf['text'] = newsdf['text'].apply(lambda x: preprocess(x))"
      ]
    },
    {
      "cell_type": "code",
      "execution_count": 18,
      "metadata": {
        "id": "dH3DvYSIT6DM"
      },
      "outputs": [],
      "source": [
        "eqdf['content'] =eqdf['content'].apply(lambda x: preprocess(x))"
      ]
    },
    {
      "cell_type": "code",
      "execution_count": 19,
      "metadata": {
        "id": "Ft--eNF8aMjB"
      },
      "outputs": [],
      "source": [
        "sadf['content'] =sadf['content'].apply(lambda x: preprocess(x))"
      ]
    },
    {
      "attachments": {},
      "cell_type": "markdown",
      "metadata": {},
      "source": [
        "<b> We split the data to train and test sets"
      ]
    },
    {
      "cell_type": "code",
      "execution_count": 21,
      "metadata": {
        "id": "BgZb3VqFkPlf"
      },
      "outputs": [],
      "source": [
        "newsX_train, newsX_test, newsY_train, newsY_test = train_test_split(newsdf['text'], newsdf['target'], test_size = 0.2, stratify=newsdf['target'], random_state=2)"
      ]
    },
    {
      "cell_type": "code",
      "execution_count": 22,
      "metadata": {
        "id": "FT4mK1hzLgOg"
      },
      "outputs": [],
      "source": [
        "saX_train, saX_test, saY_train, saY_test = train_test_split(sadf['content'], sadf['Popularity'], test_size=.2)"
      ]
    },
    {
      "attachments": {},
      "cell_type": "markdown",
      "metadata": {},
      "source": [
        "<b> We now create the tokenized vocabulary that will be fed to our CNN model later on."
      ]
    },
    {
      "cell_type": "code",
      "execution_count": 23,
      "metadata": {
        "id": "mlDCgFhRME5Y"
      },
      "outputs": [],
      "source": [
        "from gensim.models import Word2Vec\n",
        "Embedding_dimensions = 100\n",
        "# Creating Word2Vec training dataset.\n",
        "Word2vec_eq_train_data = list(map(lambda x: x.split(), eqdf['content']))"
      ]
    },
    {
      "cell_type": "code",
      "execution_count": 24,
      "metadata": {
        "id": "gY_u4mcPMHYl"
      },
      "outputs": [],
      "source": [
        "word2vec_model = Word2Vec(Word2vec_eq_train_data,vector_size=Embedding_dimensions,workers=8,min_count=5)"
      ]
    },
    {
      "cell_type": "code",
      "execution_count": 25,
      "metadata": {
        "colab": {
          "base_uri": "https://localhost:8080/"
        },
        "id": "bYojrNCZMIjQ",
        "outputId": "491e776f-7590-4818-ff77-241391f07b7a"
      },
      "outputs": [
        {
          "name": "stdout",
          "output_type": "stream",
          "text": [
            "Tokenizer vocab length: 60000\n"
          ]
        }
      ],
      "source": [
        "from tensorflow.keras.preprocessing.text import Tokenizer\n",
        "from tensorflow.keras.preprocessing.sequence import pad_sequences\n",
        "vocab_length = 60000\n",
        "\n",
        "tokenizer = Tokenizer(filters=\"\", lower=False, oov_token=\"<oov>\")\n",
        "tokenizer.fit_on_texts(eqdf['content'])\n",
        "tokenizer.num_words = vocab_length\n",
        "print(\"Tokenizer vocab length:\", vocab_length)"
      ]
    },
    {
      "cell_type": "code",
      "execution_count": 26,
      "metadata": {
        "colab": {
          "base_uri": "https://localhost:8080/"
        },
        "id": "7Gi9M-SuMJ8j",
        "outputId": "66d9509b-2a87-431b-eaa5-5b9f3bf1af44"
      },
      "outputs": [
        {
          "name": "stdout",
          "output_type": "stream",
          "text": [
            "newsX_train.shape: (6090, 60)\n",
            "newsX_test.shape: (1523, 60)\n",
            "saX_train.shape : (256000, 60)\n",
            "saX_test.shape : (64000, 60)\n"
          ]
        }
      ],
      "source": [
        "input_length = 60\n",
        "eq_vec = pad_sequences(tokenizer.texts_to_sequences(eqdf['content']), maxlen=input_length)\n",
        "newsX_train = pad_sequences(tokenizer.texts_to_sequences(newsX_train), maxlen=input_length)\n",
        "newsX_test = pad_sequences(tokenizer.texts_to_sequences(newsX_test), maxlen=input_length)\n",
        "saX_train  = pad_sequences(tokenizer.texts_to_sequences(saX_train) , maxlen=input_length)\n",
        "saX_test = pad_sequences(tokenizer.texts_to_sequences(saX_test), maxlen=input_length)\n",
        "print(\"newsX_train.shape:\", newsX_train.shape)\n",
        "print(\"newsX_test.shape:\", newsX_test.shape)\n",
        "print(\"saX_train.shape :\", saX_train.shape)\n",
        "print(\"saX_test.shape :\", saX_test.shape)"
      ]
    },
    {
      "attachments": {},
      "cell_type": "markdown",
      "metadata": {},
      "source": [
        "<b> The embedded matrix is ready as shown below "
      ]
    },
    {
      "cell_type": "code",
      "execution_count": 27,
      "metadata": {
        "colab": {
          "base_uri": "https://localhost:8080/"
        },
        "id": "T0jlzvjoMMz4",
        "outputId": "543b9f6e-89b5-4d63-a5bf-bb7106fad2e5"
      },
      "outputs": [
        {
          "name": "stdout",
          "output_type": "stream",
          "text": [
            "Embedding Matrix Shape: (60000, 100)\n"
          ]
        }
      ],
      "source": [
        "embedding_matrix = np.zeros((vocab_length, Embedding_dimensions))\n",
        "\n",
        "for word, token in tokenizer.word_index.items():\n",
        "    if word2vec_model.wv.__contains__(word):\n",
        "        embedding_matrix[token] = word2vec_model.wv.__getitem__(word)\n",
        "\n",
        "print(\"Embedding Matrix Shape:\", embedding_matrix.shape)"
      ]
    },
    {
      "attachments": {},
      "cell_type": "markdown",
      "metadata": {},
      "source": [
        "<b> We create a function to evaluate the model with a confusion matrix included."
      ]
    },
    {
      "cell_type": "code",
      "execution_count": 28,
      "metadata": {
        "id": "-KkU_gKnGWr5"
      },
      "outputs": [],
      "source": [
        "from sklearn.metrics import confusion_matrix, classification_report, accuracy_score\n",
        "import seaborn as sns\n",
        "def model_Evaluate(model,X_test,y_test):\n",
        "    \n",
        "    y_pred = model.predict(X_test)\n",
        "    y_pred = np.where(y_pred>=0.5, 1, 0)\n",
        "\n",
        "\n",
        "    print(classification_report(y_test, y_pred))\n",
        "    print('Model Score:',round(accuracy_score(y_test, y_pred),2)*100)\n",
        "\n",
        "    cf_matrix = confusion_matrix(y_test, y_pred)\n",
        "\n",
        "    categories  = ['Negative','Positive']\n",
        "    group_names = ['True Neg','False Pos', 'False Neg','True Pos']\n",
        "    group_percentages = ['{0:.2%}'.format(value) for value in cf_matrix.flatten() / np.sum(cf_matrix)]\n",
        "\n",
        "    labels = [f'{v1}\\n{v2}' for v1, v2 in zip(group_names,group_percentages)]\n",
        "    labels = np.asarray(labels).reshape(2,2)\n",
        "\n",
        "    sns.heatmap(cf_matrix, annot = labels, cmap = 'Blues',fmt = '',\n",
        "                xticklabels = categories, yticklabels = categories)\n",
        "\n",
        "    plt.xlabel(\"Predicted values\", fontdict = {'size':14}, labelpad = 10)\n",
        "    plt.ylabel(\"Actual values\"   , fontdict = {'size':14}, labelpad = 10)\n",
        "    plt.title (\"Confusion Matrix\", fontdict = {'size':18}, pad = 20)"
      ]
    },
    {
      "attachments": {},
      "cell_type": "markdown",
      "metadata": {},
      "source": [
        "<b> We build the model, defining its layers with a sigmoid activation function."
      ]
    },
    {
      "cell_type": "code",
      "execution_count": 29,
      "metadata": {
        "id": "B6eF4w1UMOsc"
      },
      "outputs": [],
      "source": [
        "from tensorflow.keras import Sequential\n",
        "from tensorflow.keras.layers import Bidirectional, GlobalMaxPool1D, Dense, LSTM, Conv1D, Embedding\n",
        "\n",
        "def getModel():\n",
        "    embedding_layer = Embedding(input_dim = vocab_length,\n",
        "                                output_dim = Embedding_dimensions,\n",
        "                                weights=[embedding_matrix],\n",
        "                                input_length=input_length,\n",
        "                                trainable=False)\n",
        "\n",
        "    model = Sequential([\n",
        "        embedding_layer,\n",
        "        Bidirectional(LSTM(100, dropout=0.3, return_sequences=True)),\n",
        "        Bidirectional(LSTM(100, dropout=0.3, return_sequences=True)),\n",
        "        Conv1D(100, 5, activation='relu'),\n",
        "        GlobalMaxPool1D(),\n",
        "        Dense(16, activation='relu'),\n",
        "        Dense(1, activation='sigmoid'),\n",
        "    ],\n",
        "    name=\"Sentiment_Model\")\n",
        "    return model"
      ]
    },
    {
      "cell_type": "code",
      "execution_count": 30,
      "metadata": {
        "id": "PasExrxaMTOS"
      },
      "outputs": [
        {
          "name": "stderr",
          "output_type": "stream",
          "text": [
            "2023-03-13 16:26:48.338538: I tensorflow/core/platform/cpu_feature_guard.cc:193] This TensorFlow binary is optimized with oneAPI Deep Neural Network Library (oneDNN) to use the following CPU instructions in performance-critical operations:  AVX2 FMA\n",
            "To enable them in other operations, rebuild TensorFlow with the appropriate compiler flags.\n"
          ]
        }
      ],
      "source": [
        "from tensorflow.keras.callbacks import ReduceLROnPlateau, EarlyStopping\n",
        "training_model = getModel()\n",
        "callbacks = [ReduceLROnPlateau(monitor='val_loss', patience=5, cooldown=0),\n",
        "             EarlyStopping(monitor='val_accuracy', min_delta=1e-4, patience=5)]"
      ]
    },
    {
      "attachments": {},
      "cell_type": "markdown",
      "metadata": {},
      "source": [
        "<b>The model architecture is done, we now complile the model and train it in 12 epochs on the Fake news Dataset."
      ]
    },
    {
      "cell_type": "code",
      "execution_count": 31,
      "metadata": {
        "id": "20iE9QZDMUXv"
      },
      "outputs": [],
      "source": [
        "training_model.compile(loss='binary_crossentropy', optimizer='adam', metrics=['accuracy'])"
      ]
    },
    {
      "cell_type": "code",
      "execution_count": 32,
      "metadata": {
        "colab": {
          "base_uri": "https://localhost:8080/"
        },
        "id": "iluJXsspDQSY",
        "outputId": "d5d9fccf-73ac-43ad-8230-6e4e01994fed"
      },
      "outputs": [
        {
          "name": "stdout",
          "output_type": "stream",
          "text": [
            "Epoch 1/12\n"
          ]
        },
        {
          "name": "stderr",
          "output_type": "stream",
          "text": [
            "/Library/Frameworks/Python.framework/Versions/3.10/lib/python3.10/site-packages/keras/engine/data_adapter.py:1696: FutureWarning: The behavior of `series[i:j]` with an integer-dtype index is deprecated. In a future version, this will be treated as *label-based* indexing, consistent with e.g. `series[i]` lookups. To retain the old behavior, use `series.iloc[i:j]`. To get the future behavior, use `series.loc[i:j]`.\n",
            "  return t[start:end]\n"
          ]
        },
        {
          "name": "stdout",
          "output_type": "stream",
          "text": [
            "43/43 [==============================] - 35s 519ms/step - loss: 0.5702 - accuracy: 0.7230 - val_loss: 0.5252 - val_accuracy: 0.7422 - lr: 0.0010\n",
            "Epoch 2/12\n",
            "43/43 [==============================] - 22s 506ms/step - loss: 0.5213 - accuracy: 0.7517 - val_loss: 0.5207 - val_accuracy: 0.7438 - lr: 0.0010\n",
            "Epoch 3/12\n",
            "43/43 [==============================] - 22s 518ms/step - loss: 0.5053 - accuracy: 0.7666 - val_loss: 0.5067 - val_accuracy: 0.7471 - lr: 0.0010\n",
            "Epoch 4/12\n",
            "43/43 [==============================] - 20s 469ms/step - loss: 0.4979 - accuracy: 0.7718 - val_loss: 0.4846 - val_accuracy: 0.7750 - lr: 0.0010\n",
            "Epoch 5/12\n",
            "43/43 [==============================] - 20s 471ms/step - loss: 0.4834 - accuracy: 0.7807 - val_loss: 0.5003 - val_accuracy: 0.7471 - lr: 0.0010\n",
            "Epoch 6/12\n",
            "43/43 [==============================] - 20s 470ms/step - loss: 0.4617 - accuracy: 0.7889 - val_loss: 0.4893 - val_accuracy: 0.7783 - lr: 0.0010\n",
            "Epoch 7/12\n",
            "43/43 [==============================] - 20s 469ms/step - loss: 0.4466 - accuracy: 0.8019 - val_loss: 0.4845 - val_accuracy: 0.7734 - lr: 0.0010\n",
            "Epoch 8/12\n",
            "43/43 [==============================] - 20s 469ms/step - loss: 0.4398 - accuracy: 0.8072 - val_loss: 0.4978 - val_accuracy: 0.7586 - lr: 0.0010\n",
            "Epoch 9/12\n",
            "43/43 [==============================] - 20s 471ms/step - loss: 0.4230 - accuracy: 0.8086 - val_loss: 0.4900 - val_accuracy: 0.7718 - lr: 0.0010\n",
            "Epoch 10/12\n",
            "43/43 [==============================] - 20s 471ms/step - loss: 0.4135 - accuracy: 0.8183 - val_loss: 0.4937 - val_accuracy: 0.7718 - lr: 0.0010\n",
            "Epoch 11/12\n",
            "43/43 [==============================] - 20s 473ms/step - loss: 0.3927 - accuracy: 0.8245 - val_loss: 0.5418 - val_accuracy: 0.7701 - lr: 0.0010\n"
          ]
        },
        {
          "data": {
            "text/plain": [
              "<keras.callbacks.History at 0x1818da3e0>"
            ]
          },
          "execution_count": 32,
          "metadata": {},
          "output_type": "execute_result"
        }
      ],
      "source": [
        "training_model.fit(newsX_train, newsY_train, batch_size=128, validation_split=0.1, epochs=12, callbacks=callbacks, verbose=1)"
      ]
    },
    {
      "attachments": {},
      "cell_type": "markdown",
      "metadata": {},
      "source": [
        "<b> Let us now evaluate the model. It seems that the model is a bit biased towards fake news detection. The overall accuracy is adequate."
      ]
    },
    {
      "cell_type": "code",
      "execution_count": 33,
      "metadata": {
        "colab": {
          "base_uri": "https://localhost:8080/",
          "height": 525
        },
        "id": "iYjvVmb_GaPF",
        "outputId": "34c58b2b-0c19-4200-aefc-fde1a0cb87fc"
      },
      "outputs": [
        {
          "name": "stdout",
          "output_type": "stream",
          "text": [
            "48/48 [==============================] - 5s 50ms/step\n",
            "              precision    recall  f1-score   support\n",
            "\n",
            "           0       0.77      0.83      0.80       869\n",
            "           1       0.74      0.67      0.70       654\n",
            "\n",
            "    accuracy                           0.76      1523\n",
            "   macro avg       0.76      0.75      0.75      1523\n",
            "weighted avg       0.76      0.76      0.76      1523\n",
            "\n",
            "Model Score: 76.0\n"
          ]
        },
        {
          "data": {
            "image/png": "[encoded data removed]",
            "text/plain": [
              "<Figure size 640x480 with 2 Axes>"
            ]
          },
          "metadata": {},
          "output_type": "display_data"
        }
      ],
      "source": [
        "model_Evaluate(training_model,newsX_test,newsY_test)"
      ]
    },
    {
      "attachments": {},
      "cell_type": "markdown",
      "metadata": {},
      "source": [
        "<b> We will now detect the fake news on the earthquake Dataset."
      ]
    },
    {
      "cell_type": "code",
      "execution_count": 34,
      "metadata": {
        "colab": {
          "base_uri": "https://localhost:8080/"
        },
        "id": "N_LXGWvnIt9y",
        "outputId": "1827c013-5fcb-4a78-bbab-2a9d19dd3bcc"
      },
      "outputs": [
        {
          "name": "stdout",
          "output_type": "stream",
          "text": [
            "5926/5926 [==============================] - 283s 48ms/step\n",
            "eq legit prediction:  1         1\n",
            "2         1\n",
            "3         1\n",
            "5         1\n",
            "6         1\n",
            "         ..\n",
            "478046    1\n",
            "478047    0\n",
            "478049    1\n",
            "478050    1\n",
            "478051    1\n",
            "Name: legit_news, Length: 189626, dtype: int64\n"
          ]
        }
      ],
      "source": [
        "eq_legit_pred = training_model.predict(eq_vec)\n",
        "eqdf['legit_news'] = np.where(eq_legit_pred > 0.5, 1, 0)\n",
        "print(\"eq legit prediction: \", eqdf['legit_news'])"
      ]
    },
    {
      "attachments": {},
      "cell_type": "markdown",
      "metadata": {},
      "source": [
        "<b> We apply the same training and evaluation procedure for the Sentiment analysis dataset."
      ]
    },
    {
      "cell_type": "code",
      "execution_count": 35,
      "metadata": {
        "colab": {
          "base_uri": "https://localhost:8080/"
        },
        "id": "IMxrij6VMWQk",
        "outputId": "8c2048cd-a61b-4d36-f0ae-1a55f060e1a7"
      },
      "outputs": [
        {
          "name": "stdout",
          "output_type": "stream",
          "text": [
            "Epoch 1/12\n"
          ]
        },
        {
          "name": "stderr",
          "output_type": "stream",
          "text": [
            "/Library/Frameworks/Python.framework/Versions/3.10/lib/python3.10/site-packages/keras/engine/data_adapter.py:1696: FutureWarning: The behavior of `series[i:j]` with an integer-dtype index is deprecated. In a future version, this will be treated as *label-based* indexing, consistent with e.g. `series[i]` lookups. To retain the old behavior, use `series.iloc[i:j]`. To get the future behavior, use `series.loc[i:j]`.\n",
            "  return t[start:end]\n"
          ]
        },
        {
          "name": "stdout",
          "output_type": "stream",
          "text": [
            "1800/1800 [==============================] - 857s 476ms/step - loss: 0.5951 - accuracy: 0.6702 - val_loss: 0.5574 - val_accuracy: 0.7061 - lr: 0.0010\n",
            "Epoch 2/12\n",
            "1800/1800 [==============================] - 856s 476ms/step - loss: 0.5617 - accuracy: 0.7015 - val_loss: 0.5407 - val_accuracy: 0.7195 - lr: 0.0010\n",
            "Epoch 3/12\n",
            "1800/1800 [==============================] - 901s 500ms/step - loss: 0.5457 - accuracy: 0.7148 - val_loss: 0.5287 - val_accuracy: 0.7301 - lr: 0.0010\n",
            "Epoch 4/12\n",
            "1800/1800 [==============================] - 879s 488ms/step - loss: 0.5354 - accuracy: 0.7232 - val_loss: 0.5227 - val_accuracy: 0.7363 - lr: 0.0010\n",
            "Epoch 5/12\n",
            "1800/1800 [==============================] - 857s 476ms/step - loss: 0.5269 - accuracy: 0.7296 - val_loss: 0.5164 - val_accuracy: 0.7413 - lr: 0.0010\n",
            "Epoch 6/12\n",
            "1800/1800 [==============================] - 842s 468ms/step - loss: 0.5200 - accuracy: 0.7358 - val_loss: 0.5120 - val_accuracy: 0.7427 - lr: 0.0010\n",
            "Epoch 7/12\n",
            "1800/1800 [==============================] - 839s 466ms/step - loss: 0.5147 - accuracy: 0.7394 - val_loss: 0.5107 - val_accuracy: 0.7448 - lr: 0.0010\n",
            "Epoch 8/12\n",
            "1800/1800 [==============================] - 841s 467ms/step - loss: 0.5093 - accuracy: 0.7429 - val_loss: 0.5083 - val_accuracy: 0.7454 - lr: 0.0010\n",
            "Epoch 9/12\n",
            "1800/1800 [==============================] - 826s 459ms/step - loss: 0.5049 - accuracy: 0.7472 - val_loss: 0.5099 - val_accuracy: 0.7476 - lr: 0.0010\n",
            "Epoch 10/12\n",
            "1800/1800 [==============================] - 884s 491ms/step - loss: 0.5000 - accuracy: 0.7501 - val_loss: 0.5065 - val_accuracy: 0.7493 - lr: 0.0010\n",
            "Epoch 11/12\n",
            "1800/1800 [==============================] - 902s 501ms/step - loss: 0.4954 - accuracy: 0.7532 - val_loss: 0.5095 - val_accuracy: 0.7508 - lr: 0.0010\n",
            "Epoch 12/12\n",
            "1800/1800 [==============================] - 903s 502ms/step - loss: 0.4911 - accuracy: 0.7550 - val_loss: 0.5067 - val_accuracy: 0.7505 - lr: 0.0010\n"
          ]
        },
        {
          "data": {
            "text/plain": [
              "<keras.callbacks.History at 0x183c76e90>"
            ]
          },
          "execution_count": 35,
          "metadata": {},
          "output_type": "execute_result"
        }
      ],
      "source": [
        "training_model.fit(saX_train, saY_train, batch_size=128, validation_split=0.1, epochs=12, callbacks=callbacks, verbose=1)"
      ]
    },
    {
      "cell_type": "code",
      "execution_count": 36,
      "metadata": {
        "id": "StrNszTRXibP"
      },
      "outputs": [
        {
          "name": "stdout",
          "output_type": "stream",
          "text": [
            "2000/2000 [==============================] - 101s 50ms/step\n",
            "              precision    recall  f1-score   support\n",
            "\n",
            "           0       0.75      0.73      0.74     32022\n",
            "           1       0.74      0.76      0.75     31978\n",
            "\n",
            "    accuracy                           0.75     64000\n",
            "   macro avg       0.75      0.75      0.75     64000\n",
            "weighted avg       0.75      0.75      0.75     64000\n",
            "\n",
            "Model Score: 75.0\n"
          ]
        },
        {
          "data": {
            "image/png": "[encoded data removed]",
            "text/plain": [
              "<Figure size 640x480 with 2 Axes>"
            ]
          },
          "metadata": {},
          "output_type": "display_data"
        }
      ],
      "source": [
        "model_Evaluate(training_model,saX_test,saY_test)"
      ]
    },
    {
      "attachments": {},
      "cell_type": "markdown",
      "metadata": {},
      "source": [
        "<b> The results are similar as far as accuracy is concerned. There's seems to be no bias here."
      ]
    },
    {
      "cell_type": "code",
      "execution_count": 37,
      "metadata": {
        "id": "k6fo9hQrW6h8"
      },
      "outputs": [
        {
          "name": "stdout",
          "output_type": "stream",
          "text": [
            "5926/5926 [==============================] - 309s 52ms/step\n",
            "eq sentiment pred:  1         0\n",
            "2         0\n",
            "3         0\n",
            "5         1\n",
            "6         0\n",
            "         ..\n",
            "478046    0\n",
            "478047    1\n",
            "478049    1\n",
            "478050    1\n",
            "478051    0\n",
            "Name: sentiment, Length: 189626, dtype: int64\n"
          ]
        }
      ],
      "source": [
        "eq_sentiment_pred = training_model.predict(eq_vec)\n",
        "eqdf['sentiment'] = np.where(eq_sentiment_pred > 0.5, 1, 0)\n",
        "print(\"eq sentiment pred: \", eqdf['sentiment'])"
      ]
    },
    {
      "attachments": {},
      "cell_type": "markdown",
      "metadata": {
        "id": "4RTFPSqaMeW-"
      },
      "source": [
        "<b> We now have to select the tweets that concern political reaction. We create a class and use keywords to filter correctly. We also create two more classes that could be used in answering other research questions in the future. "
      ]
    },
    {
      "cell_type": "code",
      "execution_count": 38,
      "metadata": {
        "id": "ejtbBdc7RdFS"
      },
      "outputs": [
        {
          "data": {
            "text/plain": [
              "[('turkey', 167470),\n",
              " ('earthquake', 152603),\n",
              " ('syria', 102093),\n",
              " ('people', 33086),\n",
              " ('turkeyearthquake', 27629),\n",
              " ('help', 23113),\n",
              " ('amp', 21470),\n",
              " ('turkiye', 17573),\n",
              " ('7', 16885),\n",
              " ('earthquakes', 14759),\n",
              " ('deprem', 14023),\n",
              " ('prayforturkey', 13488),\n",
              " ('prayers', 13475),\n",
              " ('rescue', 12600),\n",
              " ('may', 12393),\n",
              " ('8', 12074),\n",
              " ('allah', 11956),\n",
              " ('affected', 11651),\n",
              " ('aid', 11454),\n",
              " ('magnitude', 11431),\n",
              " ('turkeyquake', 11222),\n",
              " ('turkeysyriaearthquake', 10754),\n",
              " ('2', 10713),\n",
              " ('earthquakeinturkey', 10327),\n",
              " ('rubble', 10068),\n",
              " ('turkish', 9026),\n",
              " ('5', 8859),\n",
              " ('victims', 8693),\n",
              " ('please', 8678),\n",
              " ('pray', 8643),\n",
              " ('us', 8522),\n",
              " ('rkiye', 8517),\n",
              " ('km', 8481),\n",
              " ('syriaearthquake', 8300),\n",
              " ('death', 8288),\n",
              " ('disaster', 8213),\n",
              " ('hit', 8190),\n",
              " ('4', 8022),\n",
              " ('devastating', 7857),\n",
              " ('toll', 7726),\n",
              " ('time', 7553),\n",
              " ('support', 7457),\n",
              " ('000', 7450),\n",
              " ('6', 7418),\n",
              " ('1', 7215),\n",
              " ('need', 6923),\n",
              " ('3', 6847),\n",
              " ('ago', 6847),\n",
              " ('world', 6428),\n",
              " ('relief', 6318),\n",
              " ('lebanon', 6288),\n",
              " ('quake', 6149),\n",
              " ('news', 6062),\n",
              " ('injured', 5994),\n",
              " ('info', 5912),\n",
              " ('syrian', 5868),\n",
              " ('one', 5744),\n",
              " ('lives', 5549),\n",
              " ('buildings', 5467),\n",
              " ('many', 5410),\n",
              " ('country', 5370),\n",
              " ('god', 5313),\n",
              " ('donate', 5312),\n",
              " ('india', 5263),\n",
              " ('dead', 5125),\n",
              " ('today', 5108),\n",
              " ('min', 5021),\n",
              " ('earthquaketurkey', 4894),\n",
              " ('23', 4818),\n",
              " ('10', 4770),\n",
              " ('strikes', 4756),\n",
              " ('team', 4700),\n",
              " ('hours', 4631),\n",
              " ('lost', 4615),\n",
              " ('area', 4556),\n",
              " ('teams', 4536),\n",
              " ('helpturkey', 4492),\n",
              " ('families', 4416),\n",
              " ('humanitarian', 4392),\n",
              " ('thousands', 4363),\n",
              " ('countries', 4319),\n",
              " ('emergency', 4271),\n",
              " ('hatay', 4264),\n",
              " ('still', 4221),\n",
              " ('killed', 4220),\n",
              " ('heart', 4213),\n",
              " ('thoughts', 4160),\n",
              " ('pakistan', 4145),\n",
              " ('breaking', 4129),\n",
              " ('report', 4111),\n",
              " ('condolences', 4027),\n",
              " ('international', 3971),\n",
              " ('powerful', 3946),\n",
              " ('massive', 3931),\n",
              " ('everyone', 3927),\n",
              " ('search', 3886),\n",
              " ('like', 3809),\n",
              " ('struck', 3735),\n",
              " ('mercy', 3723),\n",
              " ('brothers', 3661),\n",
              " ('region', 3615),\n",
              " ('9', 3565),\n",
              " ('hope', 3498),\n",
              " ('protect', 3442),\n",
              " ('rescued', 3440),\n",
              " ('see', 3420),\n",
              " ('efforts', 3365),\n",
              " ('reports', 3355),\n",
              " ('also', 3349),\n",
              " ('died', 3348),\n",
              " ('gaziantep', 3339),\n",
              " ('survivors', 3318),\n",
              " ('life', 3302),\n",
              " ('two', 3259),\n",
              " ('new', 3256),\n",
              " ('sanctions', 3228),\n",
              " ('send', 3223),\n",
              " ('02', 3209),\n",
              " ('collapsed', 3204),\n",
              " ('save', 3158),\n",
              " ('first', 3146),\n",
              " ('another', 3108),\n",
              " ('building', 3070),\n",
              " ('days', 3063),\n",
              " ('utc', 3060),\n",
              " ('areas', 3032),\n",
              " ('via', 3027),\n",
              " ('day', 2995),\n",
              " ('monday', 2991),\n",
              " ('video', 2950),\n",
              " ('following', 2913),\n",
              " ('2023', 2904),\n",
              " ('turkeyearthquake2023', 2869),\n",
              " ('southern', 2867),\n",
              " ('sisters', 2860),\n",
              " ('due', 2830),\n",
              " ('terremoto', 2789),\n",
              " ('go', 2774),\n",
              " ('get', 2761),\n",
              " ('use', 2736),\n",
              " ('0', 2692),\n",
              " ('hi', 2688),\n",
              " ('trapped', 2676),\n",
              " ('local', 2668),\n",
              " ('family', 2657),\n",
              " ('11', 2645),\n",
              " ('assistance', 2625),\n",
              " ('let', 2619),\n",
              " ('usgs', 2607),\n",
              " ('sending', 2598),\n",
              " ('20', 2586),\n",
              " ('safety', 2582),\n",
              " ('government', 2570),\n",
              " ('even', 2553),\n",
              " ('least', 2543),\n",
              " ('un', 2543),\n",
              " ('12', 2533),\n",
              " ('city', 2532),\n",
              " ('level', 2532),\n",
              " ('medical', 2524),\n",
              " ('heartbreaking', 2503),\n",
              " ('love', 2503),\n",
              " ('know', 2500),\n",
              " ('give', 2493),\n",
              " ('old', 2482),\n",
              " ('state', 2482),\n",
              " ('aleppo', 2481),\n",
              " ('reply', 2479),\n",
              " ('impacts', 2478),\n",
              " ('said', 2475),\n",
              " ('erdogan', 2465),\n",
              " ('live', 2464),\n",
              " ('rescuers', 2447),\n",
              " ('bot', 2425),\n",
              " ('president', 2414),\n",
              " ('ones', 2413),\n",
              " ('strong', 2377),\n",
              " ('war', 2362),\n",
              " ('data', 2339),\n",
              " ('ukraine', 2328),\n",
              " ('children', 2326),\n",
              " ('prayforsyria', 2308),\n",
              " ('response', 2307),\n",
              " ('felt', 2298),\n",
              " ('situation', 2296),\n",
              " ('israel', 2293),\n",
              " ('thank', 2286),\n",
              " ('make', 2284),\n",
              " ('hits', 2270),\n",
              " ('destroyed', 2255),\n",
              " ('tragedy', 2248),\n",
              " ('much', 2245),\n",
              " ('northern', 2240),\n",
              " ('solidarity', 2218),\n",
              " ('turquia', 2197),\n",
              " ('m2', 2192),\n",
              " ('humanity', 2183),\n",
              " ('safe', 2175),\n",
              " ('grammys', 2175),\n",
              " ('m3', 2152),\n",
              " ('praying', 2143),\n",
              " ('russia', 2139),\n",
              " ('occurred', 2137),\n",
              " ('damage', 2124),\n",
              " ('around', 2121),\n",
              " ('last', 2108),\n",
              " ('morning', 2100),\n",
              " ('destruction', 2099),\n",
              " ('17', 2093),\n",
              " ('find', 2080),\n",
              " ('needs', 2074),\n",
              " ('call', 2052),\n",
              " ('deadly', 2030),\n",
              " ('sent', 2026),\n",
              " ('years', 2016),\n",
              " ('alive', 2005),\n",
              " ('nw', 2002),\n",
              " ('15', 2001),\n",
              " ('loss', 1994),\n",
              " ('difficult', 1992),\n",
              " ('every', 1990),\n",
              " ('way', 1986),\n",
              " ('continue', 1982),\n",
              " ('gmt', 1981),\n",
              " ('provide', 1972),\n",
              " ('million', 1970),\n",
              " ('border', 1962),\n",
              " ('n', 1954),\n",
              " ('could', 1951),\n",
              " ('emsc', 1945),\n",
              " ('major', 1945),\n",
              " ('well', 1942),\n",
              " ('al', 1937),\n",
              " ('twitter', 1936),\n",
              " ('usa', 1921),\n",
              " ('says', 1916),\n",
              " ('number', 1906),\n",
              " ('recovery', 1895),\n",
              " ('year', 1891),\n",
              " ('february', 1882),\n",
              " ('stand', 1880),\n",
              " ('friends', 1878),\n",
              " ('left', 1876),\n",
              " ('would', 1873),\n",
              " ('loved', 1873),\n",
              " ('purpose', 1871),\n",
              " ('food', 1864),\n",
              " ('far', 1860),\n",
              " ('0km', 1857),\n",
              " ('ml', 1850),\n",
              " ('good', 1849),\n",
              " ('sad', 1846),\n",
              " ('reported', 1836),\n",
              " ('donations', 1830),\n",
              " ('powered', 1828),\n",
              " ('coming', 1819),\n",
              " ('read', 1817),\n",
              " ('full', 1809),\n",
              " ('dpt', 1808),\n",
              " ('italyearthquake', 1808),\n",
              " ('suffering', 1806),\n",
              " ('stay', 1802),\n",
              " ('work', 1796),\n",
              " ('deaths', 1794),\n",
              " ('iran', 1791),\n",
              " ('update', 1778),\n",
              " ('watch', 1775),\n",
              " ('assad', 1774),\n",
              " ('already', 1763),\n",
              " ('helping', 1762),\n",
              " ('ameen', 1756),\n",
              " ('want', 1747),\n",
              " ('kahramanmara', 1744),\n",
              " ('aftershocks', 1743),\n",
              " ('times', 1734),\n",
              " ('istanbul', 1729),\n",
              " ('girl', 1715),\n",
              " ('hundreds', 1698),\n",
              " ('caused', 1693),\n",
              " ('keep', 1692),\n",
              " ('kahramanmaras', 1689),\n",
              " ('ground', 1667),\n",
              " ('since', 1651),\n",
              " ('24', 1641),\n",
              " ('come', 1635),\n",
              " ('baby', 1635),\n",
              " ('strength', 1630),\n",
              " ('e', 1628),\n",
              " ('human', 1627),\n",
              " ('must', 1625),\n",
              " ('going', 1622),\n",
              " ('near', 1616),\n",
              " ('37', 1615),\n",
              " ('indian', 1610),\n",
              " ('little', 1610),\n",
              " ('take', 1609),\n",
              " ('devastation', 1604),\n",
              " ('share', 1592),\n",
              " ('china', 1586),\n",
              " ('saved', 1576),\n",
              " ('breakingnews', 1570),\n",
              " ('media', 1565),\n",
              " ('moment', 1565),\n",
              " ('operations', 1558),\n",
              " ('hearts', 1545),\n",
              " ('malatya', 1540),\n",
              " ('100', 1540),\n",
              " ('brother', 1531),\n",
              " ('donation', 1524),\n",
              " ('idlib', 1514),\n",
              " ('38', 1509),\n",
              " ('natural', 1508),\n",
              " ('right', 1507),\n",
              " ('community', 1498),\n",
              " ('13', 1493),\n",
              " ('ya', 1489),\n",
              " ('goes', 1478),\n",
              " ('recent', 1465),\n",
              " ('syrians', 1463),\n",
              " ('16', 1451),\n",
              " ('30', 1447),\n",
              " ('great', 1444),\n",
              " ('happened', 1422),\n",
              " ('feb', 1420),\n",
              " ('across', 1416),\n",
              " ('urgent', 1415),\n",
              " ('pm', 1413),\n",
              " ('supplies', 1400),\n",
              " ('central', 1397),\n",
              " ('earth', 1395),\n",
              " ('child', 1394),\n",
              " ('m4', 1390),\n",
              " ('working', 1389),\n",
              " ('alert', 1387),\n",
              " ('terrible', 1387),\n",
              " ('say', 1381),\n",
              " ('peace', 1379),\n",
              " ('second', 1374),\n",
              " ('crisis', 1373),\n",
              " ('according', 1372),\n",
              " ('aftermath', 1366),\n",
              " ('needed', 1361),\n",
              " ('huge', 1360),\n",
              " ('back', 1357),\n",
              " ('pain', 1350),\n",
              " ('cities', 1349),\n",
              " ('14', 1348),\n",
              " ('depremoldu', 1348),\n",
              " ('big', 1345),\n",
              " ('always', 1339),\n",
              " ('north', 1338),\n",
              " ('night', 1337),\n",
              " ('21', 1333),\n",
              " ('together', 1329),\n",
              " ('man', 1327),\n",
              " ('36', 1322),\n",
              " ('eu', 1321),\n",
              " ('w', 1313),\n",
              " ('updates', 1312),\n",
              " ('300', 1311),\n",
              " ('iraq', 1311),\n",
              " ('soon', 1303),\n",
              " ('link', 1300),\n",
              " ('bless', 1297),\n",
              " ('18', 1292),\n",
              " ('south', 1286),\n",
              " ('never', 1284),\n",
              " ('west', 1281),\n",
              " ('reach', 1279),\n",
              " ('united', 1279),\n",
              " ('week', 1278),\n",
              " ('depth', 1276),\n",
              " ('equipment', 1276),\n",
              " ('declared', 1273),\n",
              " ('crypto', 1272),\n",
              " ('possible', 1261),\n",
              " ('19', 1256),\n",
              " ('ndrf', 1256),\n",
              " ('rise', 1254),\n",
              " ('health', 1249),\n",
              " ('latest', 1248),\n",
              " ('made', 1244),\n",
              " ('grant', 1244),\n",
              " ('really', 1236),\n",
              " ('found', 1234),\n",
              " ('best', 1234),\n",
              " ('including', 1227),\n",
              " ('nato', 1227),\n",
              " ('rises', 1226),\n",
              " ('helpsyria', 1226),\n",
              " ('hospital', 1218),\n",
              " ('deepest', 1202),\n",
              " ('almighty', 1200),\n",
              " ('cold', 1200),\n",
              " ('home', 1197),\n",
              " ('join', 1195),\n",
              " ('u', 1190),\n",
              " ('money', 1190),\n",
              " ('footage', 1189),\n",
              " ('500', 1187),\n",
              " ('three', 1186),\n",
              " ('stanbul', 1186),\n",
              " ('province', 1178),\n",
              " ('yet', 1177),\n",
              " ('army', 1176),\n",
              " ('08', 1173),\n",
              " ('minister', 1169),\n",
              " ('greece', 1164),\n",
              " ('adana', 1164),\n",
              " ('northwest', 1163),\n",
              " ('turkiyeearthquake', 1160),\n",
              " ('show', 1159),\n",
              " ('mother', 1156),\n",
              " ('part', 1151),\n",
              " ('syrie', 1146),\n",
              " ('members', 1145),\n",
              " ('pulled', 1137),\n",
              " ('22', 1134),\n",
              " ('early', 1130),\n",
              " ('tsunami', 1128),\n",
              " ('tragic', 1128),\n",
              " ('images', 1126),\n",
              " ('damascus', 1120),\n",
              " ('devastated', 1114),\n",
              " ('stop', 1111),\n",
              " ('se', 1109),\n",
              " ('hear', 1108),\n",
              " ('bbtitians', 1105),\n",
              " ('palestine', 1102),\n",
              " ('debris', 1092),\n",
              " ('scale', 1090),\n",
              " ('place', 1090),\n",
              " ('saddened', 1088),\n",
              " ('g', 1085),\n",
              " ('r', 1079),\n",
              " ('message', 1076),\n",
              " ('scenes', 1071),\n",
              " ('several', 1070),\n",
              " ('hand', 1070),\n",
              " ('hard', 1066),\n",
              " ('feel', 1064),\n",
              " ('everything', 1061),\n",
              " ('jordan', 1059),\n",
              " ('regime', 1056),\n",
              " ('places', 1053),\n",
              " ('living', 1051),\n",
              " ('event', 1051),\n",
              " ('youtube', 1050),\n",
              " ('condition', 1045),\n",
              " ('disasters', 1036),\n",
              " ('muslim', 1035),\n",
              " ('without', 1035),\n",
              " ('07', 1034),\n",
              " ('prayersforturkey', 1033),\n",
              " ('impacted', 1033),\n",
              " ('ready', 1025),\n",
              " ('ca', 1024),\n",
              " ('care', 1022),\n",
              " ('sw', 1014),\n",
              " ('25', 1014),\n",
              " ('official', 1009),\n",
              " ('result', 1008),\n",
              " ('06', 1008),\n",
              " ('follow', 1006),\n",
              " ('trying', 1000),\n",
              " ('information', 999),\n",
              " ('uae', 999),\n",
              " ('thanks', 994),\n",
              " ('ahbap', 994),\n",
              " ('others', 993),\n",
              " ('grammys2023', 991),\n",
              " ('killing', 988),\n",
              " ('hour', 988),\n",
              " ('homes', 987),\n",
              " ('red', 982),\n",
              " ('providing', 978),\n",
              " ('deeply', 977),\n",
              " ('prayforturkeyandsyria', 977),\n",
              " ('lot', 975),\n",
              " ('father', 974),\n",
              " ('includes', 974),\n",
              " ('k', 969),\n",
              " ('afad', 968),\n",
              " ('airport', 966),\n",
              " ('collapse', 965),\n",
              " ('long', 964),\n",
              " ('dear', 958),\n",
              " ('confirmed', 956),\n",
              " ('40', 956),\n",
              " ('think', 955),\n",
              " ('expected', 952),\n",
              " ('appeal', 950),\n",
              " ('citizens', 946),\n",
              " ('wish', 943),\n",
              " ('next', 942),\n",
              " ('shows', 937),\n",
              " ('gt', 937),\n",
              " ('rt', 933),\n",
              " ('lift', 933),\n",
              " ('reached', 932),\n",
              " ('yesterday', 930),\n",
              " ('look', 929),\n",
              " ('regions', 929),\n",
              " ('workers', 929),\n",
              " ('fourth', 928),\n",
              " ('28', 927),\n",
              " ('uk', 927),\n",
              " ('water', 927),\n",
              " ('waiting', 925),\n",
              " ('air', 924),\n",
              " ('zone', 921),\n",
              " ('anyone', 919),\n",
              " ('words', 916),\n",
              " ('away', 916),\n",
              " ('videos', 914),\n",
              " ('east', 914),\n",
              " ('bbtitans', 911),\n",
              " ('09', 903),\n",
              " ('weather', 902),\n",
              " ('casualties', 899),\n",
              " ('damaged', 897),\n",
              " ('continues', 897),\n",
              " ('foreign', 887),\n",
              " ('50', 885),\n",
              " ('seen', 885),\n",
              " ('states', 885),\n",
              " ('heavy', 884),\n",
              " ('visit', 880),\n",
              " ('nations', 880),\n",
              " ('free', 880),\n",
              " ('nation', 873),\n",
              " ('nothing', 870),\n",
              " ('200', 869),\n",
              " ('quakes', 868),\n",
              " ('ankara', 868),\n",
              " ('worst', 867),\n",
              " ('personnel', 866),\n",
              " ('haarp', 865),\n",
              " ('earthquakesyria', 865),\n",
              " ('power', 865),\n",
              " ('atsu', 865),\n",
              " ('antakya', 864),\n",
              " ('dog', 861),\n",
              " ('cyprus', 860),\n",
              " ('civil', 859),\n",
              " ('catastrophic', 849),\n",
              " ('prayer', 848),\n",
              " ('alarm', 848),\n",
              " ('ministry', 846),\n",
              " ('enough', 845),\n",
              " ('whole', 845),\n",
              " ('national', 845),\n",
              " ('arrived', 844),\n",
              " ('bad', 835),\n",
              " ('catastrophe', 835),\n",
              " ('comfort', 834),\n",
              " ('high', 826),\n",
              " ('house', 825),\n",
              " ('epicenter', 823),\n",
              " ('forget', 822),\n",
              " ('organizations', 820),\n",
              " ('end', 818),\n",
              " ('nature', 818),\n",
              " ('eastern', 812),\n",
              " ('provinces', 812),\n",
              " ('large', 810),\n",
              " ('syrianeedshelp', 810),\n",
              " ('head', 805),\n",
              " ('earthquakeinsyria', 805),\n",
              " ('saving', 804),\n",
              " ('post', 801),\n",
              " ('operationdost', 800),\n",
              " ('horrific', 798),\n",
              " ('announced', 798),\n",
              " ('picture', 797),\n",
              " ('total', 797),\n",
              " ('offer', 796),\n",
              " ('trending', 795),\n",
              " ('dogs', 795),\n",
              " ('assist', 795),\n",
              " ('photo', 793),\n",
              " ('shelter', 792),\n",
              " ('entire', 792),\n",
              " ('christian', 790),\n",
              " ('stands', 787),\n",
              " ('women', 786),\n",
              " ('rest', 785),\n",
              " ('donating', 785),\n",
              " ('elonmusk', 785),\n",
              " ('minutes', 784),\n",
              " ('story', 782),\n",
              " ('woman', 781),\n",
              " ('freezing', 781),\n",
              " ('western', 777),\n",
              " ('sismo', 776),\n",
              " ('real', 774),\n",
              " ('something', 774),\n",
              " ('material', 773),\n",
              " ('check', 770),\n",
              " ('social', 770),\n",
              " ('heartfelt', 769),\n",
              " ('29', 764),\n",
              " ('missing', 761),\n",
              " ('authorities', 760),\n",
              " ('sends', 750),\n",
              " ('among', 746),\n",
              " ('europe', 745),\n",
              " ('especially', 744),\n",
              " ('japan', 744),\n",
              " ('white', 743),\n",
              " ('nearly', 740),\n",
              " ('military', 740),\n",
              " ('russian', 739),\n",
              " ('elbistan', 737),\n",
              " ('face', 732),\n",
              " ('carrying', 732),\n",
              " ('global', 731),\n",
              " ('field', 730),\n",
              " ('plane', 730),\n",
              " ('reading', 727),\n",
              " ('souls', 725),\n",
              " ('remember', 722),\n",
              " ('risen', 721),\n",
              " ('muslims', 720),\n",
              " ('donated', 720),\n",
              " ('armenia', 719),\n",
              " ('alaska', 718),\n",
              " ('26', 717),\n",
              " ('operation', 717),\n",
              " ('along', 715),\n",
              " ('force', 715),\n",
              " ('forgive', 714),\n",
              " ('ne', 713),\n",
              " ('winter', 712),\n",
              " ('kurdistan', 711),\n",
              " ('looking', 709),\n",
              " ('campaign', 707),\n",
              " ('indonesia', 706),\n",
              " ('volunteers', 704),\n",
              " ('loveisland', 704),\n",
              " ('m1', 701),\n",
              " ('open', 700),\n",
              " ('history', 699),\n",
              " ('friend', 699),\n",
              " ('homeless', 698),\n",
              " ('took', 697),\n",
              " ('effected', 696),\n",
              " ('month', 695),\n",
              " ('turquie', 694),\n",
              " ('ease', 694),\n",
              " ('charity', 693),\n",
              " ('got', 692),\n",
              " ('important', 689),\n",
              " ('rterdogan', 689),\n",
              " ('refugees', 688),\n",
              " ('fire', 688),\n",
              " ('access', 684),\n",
              " ('shaking', 682),\n",
              " ('ksun', 681),\n",
              " ('able', 679),\n",
              " ('using', 679),\n",
              " ('immediate', 678),\n",
              " ('35', 675),\n",
              " ('held', 672),\n",
              " ('eth', 672),\n",
              " ('millions', 669),\n",
              " ('better', 666),\n",
              " ('speedy', 665),\n",
              " ('ever', 663),\n",
              " ('cross', 663),\n",
              " ('blankets', 662),\n",
              " ('spread', 662),\n",
              " ('supporting', 659),\n",
              " ('seismic', 658),\n",
              " ('33', 657),\n",
              " ('stuck', 654),\n",
              " ('happening', 652),\n",
              " ('multiple', 651),\n",
              " ('forces', 651),\n",
              " ('kills', 651),\n",
              " ('germany', 650),\n",
              " ('daughter', 649),\n",
              " ('pictures', 648),\n",
              " ('alone', 647),\n",
              " ('conditions', 642),\n",
              " ('almost', 641),\n",
              " ('iskenderun', 641),\n",
              " ('chinese', 641),\n",
              " ('btc', 641),\n",
              " ('suffered', 639),\n",
              " ('27', 638),\n",
              " ('tweet', 637),\n",
              " ('bitcoin', 637),\n",
              " ('tell', 635),\n",
              " ('called', 633),\n",
              " ('tents', 632),\n",
              " ('aftershock', 628),\n",
              " ('aircraft', 625),\n",
              " ('within', 624),\n",
              " ('getting', 624),\n",
              " ('kind', 622),\n",
              " ('c', 622),\n",
              " ('indianarmy', 619),\n",
              " ('anything', 618),\n",
              " ('express', 617),\n",
              " ('parts', 615),\n",
              " ('m5', 615),\n",
              " ('used', 615),\n",
              " ('officials', 614),\n",
              " ('passed', 613),\n",
              " ('canada', 612),\n",
              " ('things', 612),\n",
              " ('m7', 611),\n",
              " ('close', 611),\n",
              " ('person', 610),\n",
              " ('horrible', 610),\n",
              " ('later', 608),\n",
              " ('northwestern', 607),\n",
              " ('04', 606),\n",
              " ('leave', 606),\n",
              " ('miracle', 605),\n",
              " ('deep', 604),\n",
              " ('oh', 604),\n",
              " ('fault', 603),\n",
              " ('making', 603),\n",
              " ('hands', 603),\n",
              " ('southeastern', 602),\n",
              " ('displaced', 602),\n",
              " ('wounded', 602),\n",
              " ('govt', 601),\n",
              " ('ask', 601),\n",
              " ('passes', 601),\n",
              " ('buried', 599),\n",
              " ('patience', 599),\n",
              " ('experience', 597),\n",
              " ('lord', 595),\n",
              " ('organization', 591),\n",
              " ('cannot', 590),\n",
              " ('agency', 589),\n",
              " ('bring', 589),\n",
              " ('political', 588),\n",
              " ('tuesday', 588),\n",
              " ('happen', 587),\n",
              " ('ongoing', 587),\n",
              " ('taken', 587),\n",
              " ('buffalo', 587),\n",
              " ('00', 586),\n",
              " ('currently', 584),\n",
              " ('qatar', 583),\n",
              " ('account', 582),\n",
              " ('impact', 579),\n",
              " ('injuries', 578),\n",
              " ('calls', 578),\n",
              " ('past', 575),\n",
              " ('set', 574),\n",
              " ('sure', 572),\n",
              " ('true', 571),\n",
              " ('done', 571),\n",
              " ('beautiful', 570),\n",
              " ('viral', 570),\n",
              " ('group', 570),\n",
              " ('top', 569),\n",
              " ('recorded', 569),\n",
              " ('cause', 569),\n",
              " ('despite', 569),\n",
              " ('01', 568),\n",
              " ('immediately', 566),\n",
              " ('thousand', 565),\n",
              " ('put', 564),\n",
              " ('putin', 563),\n",
              " ('boy', 562),\n",
              " ('predicted', 559),\n",
              " ('sorry', 559),\n",
              " ('recover', 558),\n",
              " ('southeast', 557),\n",
              " ('l', 556),\n",
              " ('learn', 556),\n",
              " ('visuals', 555),\n",
              " ('oil', 555),\n",
              " ('believe', 553),\n",
              " ('sister', 553),\n",
              " ('occured', 553),\n",
              " ('gempa', 552),\n",
              " ('came', 551),\n",
              " ('die', 550),\n",
              " ('france', 550),\n",
              " ('amid', 549),\n",
              " ('swt', 549),\n",
              " ('upon', 548),\n",
              " ('small', 548),\n",
              " ('politics', 548),\n",
              " ('pakistani', 547),\n",
              " ('imagine', 546),\n",
              " ('israeli', 546),\n",
              " ('member', 545),\n",
              " ('funds', 543),\n",
              " ('helmets', 543),\n",
              " ('security', 542),\n",
              " ('diyarbakir', 541),\n",
              " ('partners', 540),\n",
              " ('600', 538),\n",
              " ('action', 538),\n",
              " ('details', 537),\n",
              " ('effort', 537),\n",
              " ('source', 536),\n",
              " ('45', 535),\n",
              " ('sympathy', 535),\n",
              " ('binance', 534),\n",
              " ('happy', 534),\n",
              " ('nft', 533),\n",
              " ('act', 533),\n",
              " ('reham', 530),\n",
              " ('communities', 530),\n",
              " ('tons', 530),\n",
              " ('helps', 530),\n",
              " ('embassy', 529),\n",
              " ('richter', 528),\n",
              " ('kurdish', 528),\n",
              " ('started', 527),\n",
              " ('side', 527),\n",
              " ('800', 527),\n",
              " ('wake', 526),\n",
              " ('warning', 525),\n",
              " ('seeing', 525),\n",
              " ('bank', 525),\n",
              " ('bodies', 525),\n",
              " ('azerbaijan', 525),\n",
              " ('middle', 524),\n",
              " ('ppl', 524),\n",
              " ('32', 522),\n",
              " ('special', 520),\n",
              " ('humans', 519),\n",
              " ('critical', 518),\n",
              " ('start', 518),\n",
              " ('america', 518),\n",
              " ('displayed', 518),\n",
              " ('34', 516),\n",
              " ('03', 515),\n",
              " ('mission', 515),\n",
              " ('deceased', 515),\n",
              " ('young', 514),\n",
              " ('management', 512),\n",
              " ('italy', 510),\n",
              " ('severe', 508),\n",
              " ('holding', 508),\n",
              " ('become', 507),\n",
              " ('contact', 507),\n",
              " ('numbers', 506),\n",
              " ('400', 506),\n",
              " ('tonight', 505),\n",
              " ('crescent', 504),\n",
              " ('internet', 504),\n",
              " ('thing', 503),\n",
              " ('towards', 503),\n",
              " ('thinking', 502),\n",
              " ('fund', 502),\n",
              " ('available', 502),\n",
              " ('biden', 501),\n",
              " ('tremors', 500),\n",
              " ('31', 498),\n",
              " ('lots', 498),\n",
              " ('resources', 498),\n",
              " ('inside', 496),\n",
              " ('48', 496),\n",
              " ('adiyaman', 495),\n",
              " ('planes', 495),\n",
              " ('different', 494),\n",
              " ('consider', 493),\n",
              " ('order', 492),\n",
              " ('hawaii', 491),\n",
              " ('dying', 491),\n",
              " ('defense', 490),\n",
              " ('bnb', 488),\n",
              " ('m0', 488),\n",
              " ('latakia', 486),\n",
              " ('houses', 486),\n",
              " ('heard', 485),\n",
              " ('proud', 484),\n",
              " ('services', 483),\n",
              " ('outside', 483),\n",
              " ('residents', 482),\n",
              " ('someone', 481),\n",
              " ('date', 481),\n",
              " ('comes', 480),\n",
              " ('app', 480),\n",
              " ('try', 480),\n",
              " ('reaches', 480),\n",
              " ('stateoftheunionaddress', 479),\n",
              " ('ruins', 477),\n",
              " ('narendramodi', 476),\n",
              " ('photos', 476),\n",
              " ('afrin', 475),\n",
              " ('wreckage', 475),\n",
              " ('absolutely', 474),\n",
              " ('name', 472),\n",
              " ('saying', 471),\n",
              " ('amount', 470),\n",
              " ('painful', 470),\n",
              " ('05', 468),\n",
              " ('given', 468),\n",
              " ('earlier', 467),\n",
              " ('facing', 466),\n",
              " ('general', 464),\n",
              " ('biggest', 464),\n",
              " ('grief', 464),\n",
              " ('items', 463),\n",
              " ('saudi', 462),\n",
              " ('collapsing', 462),\n",
              " ('quick', 462),\n",
              " ('hogwartslegacy', 462),\n",
              " ('list', 461),\n",
              " ('shame', 461),\n",
              " ('39', 460),\n",
              " ('provided', 460),\n",
              " ('poor', 460),\n",
              " ('received', 459),\n",
              " ('difference', 459),\n",
              " ('egypt', 458),\n",
              " ('fear', 458),\n",
              " ('pls', 458),\n",
              " ('causing', 457),\n",
              " ('likely', 455),\n",
              " ('moments', 454),\n",
              " ('ad', 454),\n",
              " ('light', 453),\n",
              " ('arab', 453),\n",
              " ('town', 452),\n",
              " ('islamic', 451),\n",
              " ('stricken', 450),\n",
              " ('materials', 450),\n",
              " ('afghanistan', 447),\n",
              " ('click', 447),\n",
              " ('construction', 447),\n",
              " ('syriaquake', 447),\n",
              " ('42', 446),\n",
              " ('means', 445),\n",
              " ('change', 445),\n",
              " ('map', 440),\n",
              " ('urgently', 439),\n",
              " ('guys', 438),\n",
              " ('calamity', 437),\n",
              " ('wrenching', 437),\n",
              " ('center', 437),\n",
              " ('respond', 437),\n",
              " ('easy', 437),\n",
              " ('taking', 436),\n",
              " ('sky', 436),\n",
              " ('born', 435),\n",
              " ('experts', 434),\n",
              " ('giving', 434),\n",
              " ('700', 434),\n",
              " ('flight', 434),\n",
              " ('rocked', 433),\n",
              " ('syriacivildef', 433),\n",
              " ('land', 433),\n",
              " ('republic', 432),\n",
              " ('civilians', 432),\n",
              " ('statement', 432),\n",
              " ('asking', 431),\n",
              " ('matter', 431),\n",
              " ('animals', 429),\n",
              " ('41', 429),\n",
              " ('updated', 428),\n",
              " ('less', 426),\n",
              " ('non', 425),\n",
              " ('b', 425),\n",
              " ('makes', 423),\n",
              " ('increase', 423),\n",
              " ('location', 423),\n",
              " ('innocent', 422),\n",
              " ('line', 422),\n",
              " ('modi', 422),\n",
              " ('wednesday', 422),\n",
              " ('district', 420),\n",
              " ('greek', 420),\n",
              " ('kashmir', 420),\n",
              " ('body', 419),\n",
              " ('60', 419),\n",
              " ('unfortunately', 419),\n",
              " ('tv', 419),\n",
              " ('rescuing', 419),\n",
              " ('largest', 418),\n",
              " ('hatayyardimbekliyor', 418),\n",
              " ('future', 417),\n",
              " ('turkishearthquake', 416),\n",
              " ('responding', 415),\n",
              " ('dozens', 415),\n",
              " ('infrastructure', 415),\n",
              " ('departed', 415),\n",
              " ('might', 414),\n",
              " ('doctors', 414),\n",
              " ('kids', 414),\n",
              " ('voice', 413),\n",
              " ('islam', 413),\n",
              " ('44', 413),\n",
              " ('palestinian', 413),\n",
              " ('crossing', 413),\n",
              " ('deliver', 413),\n",
              " ('hogwartlegacy', 413),\n",
              " ('sincere', 412)]"
            ]
          },
          "execution_count": 38,
          "metadata": {},
          "output_type": "execute_result"
        }
      ],
      "source": [
        "from collections import Counter\n",
        "\n",
        "all_text = ' '.join(eqdf['content'].values)\n",
        "all_text = re.sub(r'http\\S+', '', all_text)\n",
        "all_text = re.sub(r'@\\S+', '', all_text)\n",
        "all_text = re.sub(r'#\\S+', '', all_text)\n",
        "words = all_text.split()\n",
        "stop_words = set(stopwords.words('english'))\n",
        "words = [word for word in words if not word in stop_words]\n",
        "word_counts = Counter(words)\n",
        "top_words = word_counts.most_common(1000)\n",
        "top_words"
      ]
    },
    {
      "cell_type": "code",
      "execution_count": 39,
      "metadata": {
        "id": "PkEqUo0LV7cS"
      },
      "outputs": [],
      "source": [
        "classes = {\n",
        "    'Help': ['help', 'assistance', 'support', 'donate','donor', 'aid', 'relief', 'volunteer','humanitarian','rescue'],\n",
        "    'Political response': ['government', 'political', 'response','erdogan', 'minister','prime','president'],\n",
        "    'Infrastructure damage': ['building', 'bridge', 'road', 'power', 'water', 'gas', 'telecommunications'],\n",
        "}\n",
        "\n",
        "def classify_tweet(tweet_text):\n",
        "    for class_name, keywords in classes.items():\n",
        "                for keyword in keywords:\n",
        "                   if keyword in tweet_text:\n",
        "                     return class_name\n",
        "    return 'Other'\n",
        "\n",
        "eqdf['Class'] = eqdf['content'].apply(classify_tweet)\n",
        "eqdf.to_csv('tweet_data_labeled.csv', index=False)"
      ]
    },
    {
      "cell_type": "code",
      "execution_count": 40,
      "metadata": {
        "id": "JxFrIN8XWDsq"
      },
      "outputs": [
        {
          "data": {
            "text/html": [
              "<div>\n",
              "<style scoped>\n",
              "    .dataframe tbody tr th:only-of-type {\n",
              "        vertical-align: middle;\n",
              "    }\n",
              "\n",
              "    .dataframe tbody tr th {\n",
              "        vertical-align: top;\n",
              "    }\n",
              "\n",
              "    .dataframe thead th {\n",
              "        text-align: right;\n",
              "    }\n",
              "</style>\n",
              "<table border=\"1\" class=\"dataframe\">\n",
              "  <thead>\n",
              "    <tr style=\"text-align: right;\">\n",
              "      <th></th>\n",
              "      <th>date</th>\n",
              "      <th>content</th>\n",
              "      <th>legit_news</th>\n",
              "      <th>sentiment</th>\n",
              "      <th>Class</th>\n",
              "    </tr>\n",
              "  </thead>\n",
              "  <tbody>\n",
              "    <tr>\n",
              "      <th>0</th>\n",
              "      <td>2023-02-21 03:29:07+00:00</td>\n",
              "      <td>new search amp rescue work progress hatay two ...</td>\n",
              "      <td>1</td>\n",
              "      <td>0</td>\n",
              "      <td>Help</td>\n",
              "    </tr>\n",
              "    <tr>\n",
              "      <th>1</th>\n",
              "      <td>2023-02-21 03:29:04+00:00</td>\n",
              "      <td>imagine still recovered previous tragedy amp l...</td>\n",
              "      <td>1</td>\n",
              "      <td>0</td>\n",
              "      <td>Other</td>\n",
              "    </tr>\n",
              "    <tr>\n",
              "      <th>2</th>\n",
              "      <td>2023-02-21 03:28:06+00:00</td>\n",
              "      <td>highkey sign us ponder actions return merciful...</td>\n",
              "      <td>1</td>\n",
              "      <td>0</td>\n",
              "      <td>Other</td>\n",
              "    </tr>\n",
              "    <tr>\n",
              "      <th>3</th>\n",
              "      <td>2023-02-21 03:27:27+00:00</td>\n",
              "      <td>see strong earthquake feb 20 2023 hatay turkey...</td>\n",
              "      <td>1</td>\n",
              "      <td>1</td>\n",
              "      <td>Other</td>\n",
              "    </tr>\n",
              "    <tr>\n",
              "      <th>4</th>\n",
              "      <td>2023-02-21 03:27:11+00:00</td>\n",
              "      <td>difficult news today top struggles already fac...</td>\n",
              "      <td>1</td>\n",
              "      <td>0</td>\n",
              "      <td>Help</td>\n",
              "    </tr>\n",
              "    <tr>\n",
              "      <th>5</th>\n",
              "      <td>2023-02-21 03:26:30+00:00</td>\n",
              "      <td>another earthquake southern turkey</td>\n",
              "      <td>1</td>\n",
              "      <td>0</td>\n",
              "      <td>Other</td>\n",
              "    </tr>\n",
              "    <tr>\n",
              "      <th>6</th>\n",
              "      <td>2023-02-21 03:26:18+00:00</td>\n",
              "      <td>three people confirmed died 6 4 magnitude eart...</td>\n",
              "      <td>1</td>\n",
              "      <td>0</td>\n",
              "      <td>Other</td>\n",
              "    </tr>\n",
              "    <tr>\n",
              "      <th>7</th>\n",
              "      <td>2023-02-21 03:26:11+00:00</td>\n",
              "      <td>6 4 magnitude quake shakes turkey syria border...</td>\n",
              "      <td>1</td>\n",
              "      <td>0</td>\n",
              "      <td>Other</td>\n",
              "    </tr>\n",
              "    <tr>\n",
              "      <th>8</th>\n",
              "      <td>2023-02-21 03:25:13+00:00</td>\n",
              "      <td>new 6 3 earthquake hits turkey syria border ki...</td>\n",
              "      <td>1</td>\n",
              "      <td>0</td>\n",
              "      <td>Other</td>\n",
              "    </tr>\n",
              "    <tr>\n",
              "      <th>9</th>\n",
              "      <td>2023-02-21 03:25:12+00:00</td>\n",
              "      <td>latest earthquake turkey impact disaster recov...</td>\n",
              "      <td>1</td>\n",
              "      <td>0</td>\n",
              "      <td>Other</td>\n",
              "    </tr>\n",
              "  </tbody>\n",
              "</table>\n",
              "</div>"
            ],
            "text/plain": [
              "                        date  \\\n",
              "0  2023-02-21 03:29:07+00:00   \n",
              "1  2023-02-21 03:29:04+00:00   \n",
              "2  2023-02-21 03:28:06+00:00   \n",
              "3  2023-02-21 03:27:27+00:00   \n",
              "4  2023-02-21 03:27:11+00:00   \n",
              "5  2023-02-21 03:26:30+00:00   \n",
              "6  2023-02-21 03:26:18+00:00   \n",
              "7  2023-02-21 03:26:11+00:00   \n",
              "8  2023-02-21 03:25:13+00:00   \n",
              "9  2023-02-21 03:25:12+00:00   \n",
              "\n",
              "                                             content  legit_news  sentiment  \\\n",
              "0  new search amp rescue work progress hatay two ...           1          0   \n",
              "1  imagine still recovered previous tragedy amp l...           1          0   \n",
              "2  highkey sign us ponder actions return merciful...           1          0   \n",
              "3  see strong earthquake feb 20 2023 hatay turkey...           1          1   \n",
              "4  difficult news today top struggles already fac...           1          0   \n",
              "5                 another earthquake southern turkey           1          0   \n",
              "6  three people confirmed died 6 4 magnitude eart...           1          0   \n",
              "7  6 4 magnitude quake shakes turkey syria border...           1          0   \n",
              "8  new 6 3 earthquake hits turkey syria border ki...           1          0   \n",
              "9  latest earthquake turkey impact disaster recov...           1          0   \n",
              "\n",
              "   Class  \n",
              "0   Help  \n",
              "1  Other  \n",
              "2  Other  \n",
              "3  Other  \n",
              "4   Help  \n",
              "5  Other  \n",
              "6  Other  \n",
              "7  Other  \n",
              "8  Other  \n",
              "9  Other  "
            ]
          },
          "execution_count": 40,
          "metadata": {},
          "output_type": "execute_result"
        }
      ],
      "source": [
        "eqdf = pd.read_csv('tweet_data_labeled.csv')\n",
        "eqdf.head(10)"
      ]
    },
    {
      "attachments": {},
      "cell_type": "markdown",
      "metadata": {
        "id": "8gycSdoLJt9V"
      },
      "source": [
        "<b>Filter the Data to keep only the tweets about the political response"
      ]
    },
    {
      "cell_type": "code",
      "execution_count": 41,
      "metadata": {
        "id": "AlbFqzsPWIzw"
      },
      "outputs": [
        {
          "data": {
            "text/html": [
              "<div>\n",
              "<style scoped>\n",
              "    .dataframe tbody tr th:only-of-type {\n",
              "        vertical-align: middle;\n",
              "    }\n",
              "\n",
              "    .dataframe tbody tr th {\n",
              "        vertical-align: top;\n",
              "    }\n",
              "\n",
              "    .dataframe thead th {\n",
              "        text-align: right;\n",
              "    }\n",
              "</style>\n",
              "<table border=\"1\" class=\"dataframe\">\n",
              "  <thead>\n",
              "    <tr style=\"text-align: right;\">\n",
              "      <th></th>\n",
              "      <th>date</th>\n",
              "      <th>content</th>\n",
              "      <th>legit_news</th>\n",
              "      <th>sentiment</th>\n",
              "      <th>Class</th>\n",
              "    </tr>\n",
              "  </thead>\n",
              "  <tbody>\n",
              "    <tr>\n",
              "      <th>10</th>\n",
              "      <td>2023-02-21 03:24:33+00:00</td>\n",
              "      <td>indian media show postive news great noble qua...</td>\n",
              "      <td>1</td>\n",
              "      <td>1</td>\n",
              "      <td>Political response</td>\n",
              "    </tr>\n",
              "    <tr>\n",
              "      <th>49</th>\n",
              "      <td>2023-02-21 02:37:49+00:00</td>\n",
              "      <td>turkish interior minister suleyman soylu says ...</td>\n",
              "      <td>1</td>\n",
              "      <td>0</td>\n",
              "      <td>Political response</td>\n",
              "    </tr>\n",
              "    <tr>\n",
              "      <th>64</th>\n",
              "      <td>2023-02-21 02:15:14+00:00</td>\n",
              "      <td>turkish interior minister suleyman soylu says ...</td>\n",
              "      <td>1</td>\n",
              "      <td>0</td>\n",
              "      <td>Political response</td>\n",
              "    </tr>\n",
              "    <tr>\n",
              "      <th>194</th>\n",
              "      <td>2023-02-21 00:26:16+00:00</td>\n",
              "      <td>today headlines 1 3 presidentbiden visited ukr...</td>\n",
              "      <td>1</td>\n",
              "      <td>0</td>\n",
              "      <td>Political response</td>\n",
              "    </tr>\n",
              "    <tr>\n",
              "      <th>214</th>\n",
              "      <td>2023-02-21 00:04:48+00:00</td>\n",
              "      <td>kiddle getting angry turkey amp governments ge...</td>\n",
              "      <td>1</td>\n",
              "      <td>0</td>\n",
              "      <td>Political response</td>\n",
              "    </tr>\n",
              "    <tr>\n",
              "      <th>237</th>\n",
              "      <td>2023-02-20 23:37:47+00:00</td>\n",
              "      <td>turkey build nearly 2 lac homes quake hit regi...</td>\n",
              "      <td>1</td>\n",
              "      <td>0</td>\n",
              "      <td>Political response</td>\n",
              "    </tr>\n",
              "    <tr>\n",
              "      <th>283</th>\n",
              "      <td>2023-02-20 23:05:39+00:00</td>\n",
              "      <td>health minister koca 294 injured two earthquak...</td>\n",
              "      <td>1</td>\n",
              "      <td>0</td>\n",
              "      <td>Political response</td>\n",
              "    </tr>\n",
              "    <tr>\n",
              "      <th>566</th>\n",
              "      <td>2023-02-20 20:31:58+00:00</td>\n",
              "      <td>moment earthquake change hatay captured car da...</td>\n",
              "      <td>1</td>\n",
              "      <td>0</td>\n",
              "      <td>Political response</td>\n",
              "    </tr>\n",
              "    <tr>\n",
              "      <th>598</th>\n",
              "      <td>2023-02-20 20:22:05+00:00</td>\n",
              "      <td>moment earthquake change hatay captured car da...</td>\n",
              "      <td>1</td>\n",
              "      <td>0</td>\n",
              "      <td>Political response</td>\n",
              "    </tr>\n",
              "    <tr>\n",
              "      <th>619</th>\n",
              "      <td>2023-02-20 20:17:24+00:00</td>\n",
              "      <td>moment earthquake change hatay captured car da...</td>\n",
              "      <td>1</td>\n",
              "      <td>0</td>\n",
              "      <td>Political response</td>\n",
              "    </tr>\n",
              "  </tbody>\n",
              "</table>\n",
              "</div>"
            ],
            "text/plain": [
              "                          date  \\\n",
              "10   2023-02-21 03:24:33+00:00   \n",
              "49   2023-02-21 02:37:49+00:00   \n",
              "64   2023-02-21 02:15:14+00:00   \n",
              "194  2023-02-21 00:26:16+00:00   \n",
              "214  2023-02-21 00:04:48+00:00   \n",
              "237  2023-02-20 23:37:47+00:00   \n",
              "283  2023-02-20 23:05:39+00:00   \n",
              "566  2023-02-20 20:31:58+00:00   \n",
              "598  2023-02-20 20:22:05+00:00   \n",
              "619  2023-02-20 20:17:24+00:00   \n",
              "\n",
              "                                               content  legit_news  sentiment  \\\n",
              "10   indian media show postive news great noble qua...           1          1   \n",
              "49   turkish interior minister suleyman soylu says ...           1          0   \n",
              "64   turkish interior minister suleyman soylu says ...           1          0   \n",
              "194  today headlines 1 3 presidentbiden visited ukr...           1          0   \n",
              "214  kiddle getting angry turkey amp governments ge...           1          0   \n",
              "237  turkey build nearly 2 lac homes quake hit regi...           1          0   \n",
              "283  health minister koca 294 injured two earthquak...           1          0   \n",
              "566  moment earthquake change hatay captured car da...           1          0   \n",
              "598  moment earthquake change hatay captured car da...           1          0   \n",
              "619  moment earthquake change hatay captured car da...           1          0   \n",
              "\n",
              "                  Class  \n",
              "10   Political response  \n",
              "49   Political response  \n",
              "64   Political response  \n",
              "194  Political response  \n",
              "214  Political response  \n",
              "237  Political response  \n",
              "283  Political response  \n",
              "566  Political response  \n",
              "598  Political response  \n",
              "619  Political response  "
            ]
          },
          "execution_count": 41,
          "metadata": {},
          "output_type": "execute_result"
        }
      ],
      "source": [
        "df2 = eqdf[eqdf['Class']=='Political response']\n",
        "eqdf = df2['content']\n",
        "df2.head(10)"
      ]
    },
    {
      "attachments": {},
      "cell_type": "markdown",
      "metadata": {
        "id": "HEgXOIzDJ2vL"
      },
      "source": [
        "<b>Filter Data that are fake and real news into two new datasets\n"
      ]
    },
    {
      "cell_type": "code",
      "execution_count": 42,
      "metadata": {
        "id": "9DVBRthwJkAR"
      },
      "outputs": [],
      "source": [
        "df3 = df2[df2['legit_news']== 0]\n",
        "df4 = df2[df2['legit_news']== 1]"
      ]
    },
    {
      "attachments": {},
      "cell_type": "markdown",
      "metadata": {
        "id": "5QCNX2c2KAfo"
      },
      "source": [
        "<b>Decode the 0,1 sentiment into Positive and negative for all three datasets"
      ]
    },
    {
      "cell_type": "code",
      "execution_count": 43,
      "metadata": {
        "id": "odAOR-vxJmc_"
      },
      "outputs": [
        {
          "name": "stderr",
          "output_type": "stream",
          "text": [
            "/var/folders/s5/_19scpmn5qx24kgxtpzykrz00000gn/T/ipykernel_16596/39307896.py:10: SettingWithCopyWarning: \n",
            "A value is trying to be set on a copy of a slice from a DataFrame.\n",
            "Try using .loc[row_indexer,col_indexer] = value instead\n",
            "\n",
            "See the caveats in the documentation: https://pandas.pydata.org/pandas-docs/stable/user_guide/indexing.html#returning-a-view-versus-a-copy\n",
            "  df3['sentiment'] = df3['sentiment'].apply(lambda x: decode_sentiment(x))\n",
            "/var/folders/s5/_19scpmn5qx24kgxtpzykrz00000gn/T/ipykernel_16596/39307896.py:11: SettingWithCopyWarning: \n",
            "A value is trying to be set on a copy of a slice from a DataFrame.\n",
            "Try using .loc[row_indexer,col_indexer] = value instead\n",
            "\n",
            "See the caveats in the documentation: https://pandas.pydata.org/pandas-docs/stable/user_guide/indexing.html#returning-a-view-versus-a-copy\n",
            "  df4['sentiment'] = df4['sentiment'].apply(lambda x: decode_sentiment(x))\n"
          ]
        }
      ],
      "source": [
        "from collections import Counter\n",
        "POSITIVE = \"POSITIVE\"\n",
        "NEGATIVE = \"NEGATIVE\"\n",
        "decode_map = {0: \"NEGATIVE\", 1: \"POSITIVE\"}\n",
        "def decode_sentiment(label):\n",
        "    return decode_map[int(label)]\n",
        "\n",
        "\n",
        "df2['sentiment'] = df2['sentiment'].apply(lambda x: decode_sentiment(x))\n",
        "df3['sentiment'] = df3['sentiment'].apply(lambda x: decode_sentiment(x))\n",
        "df4['sentiment'] = df4['sentiment'].apply(lambda x: decode_sentiment(x))\n",
        "\n",
        "\n",
        "Popularity_cnt1 = Counter(df2['sentiment'])\n",
        "Popularity_cnt2 = Counter(df3['sentiment'])\n",
        "Popularity_cnt3 = Counter(df4['sentiment'])"
      ]
    },
    {
      "attachments": {},
      "cell_type": "markdown",
      "metadata": {
        "id": "5iXrRUvOKIOT"
      },
      "source": [
        "<b>Plot a bar chart for each dataset to showcase the sentiment analysis on \"Real & Fake News\" , \"Real News\" and \"Fake News\" respectively."
      ]
    },
    {
      "cell_type": "code",
      "execution_count": 44,
      "metadata": {
        "id": "bR9OBSqWJmVD"
      },
      "outputs": [
        {
          "data": {
            "image/png": "[encoded data removed]",
            "text/plain": [
              "<Figure size 1000x400 with 3 Axes>"
            ]
          },
          "metadata": {},
          "output_type": "display_data"
        }
      ],
      "source": [
        "fig, axs = plt.subplots(1, 3, figsize=(10, 4))\n",
        "for i, (data, ax) in enumerate(zip([Popularity_cnt1, Popularity_cnt2, Popularity_cnt3], axs)):\n",
        "    ax.bar(data.keys(), data.values())\n",
        "    ax.set_title('Plot {}'.format(i+1))\n",
        "    for j, v in enumerate(data.values()):\n",
        "        ax.text(j, v+0.5, str(v), ha='center')\n",
        "axs[0].set_title('Real & Fake News Sentiment')\n",
        "axs[1].set_title(' Fake News Sentiment')\n",
        "axs[2].set_title('Real News Sentiment')\n",
        "plt.subplots_adjust(wspace=0.3)\n",
        "plt.show()"
      ]
    }
  ],
  "metadata": {
    "accelerator": "GPU",
    "colab": {
      "provenance": []
    },
    "gpuClass": "standard",
    "kernelspec": {
      "display_name": "Python 3",
      "name": "python3"
    },
    "language_info": {
      "codemirror_mode": {
        "name": "ipython",
        "version": 3
      },
      "file_extension": ".py",
      "mimetype": "text/x-python",
      "name": "python",
      "nbconvert_exporter": "python",
      "pygments_lexer": "ipython3",
      "version": "3.10.7"
    }
  },
  "nbformat": 4,
  "nbformat_minor": 0
}
